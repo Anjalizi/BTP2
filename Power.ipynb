{
 "cells": [
  {
   "cell_type": "code",
   "execution_count": 23,
   "metadata": {},
   "outputs": [],
   "source": [
    "import numpy as np\n",
    "import pandas as pd\n",
    "import mne"
   ]
  },
  {
   "cell_type": "code",
   "execution_count": 24,
   "metadata": {},
   "outputs": [
    {
     "name": "stdout",
     "output_type": "stream",
     "text": [
      "Extracting EDF parameters from /home/anjali/Desktop/Mehnat/BTP2/eeg10.edf...\n",
      "EDF file detected\n",
      "Setting channel info structure...\n",
      "Creating raw.info structure...\n",
      "Reading 0 ... 1389311  =      0.000 ...  5426.996 secs...\n"
     ]
    }
   ],
   "source": [
    "data = mne.io.read_raw_edf('eeg10.edf', preload=True)"
   ]
  },
  {
   "cell_type": "code",
   "execution_count": 25,
   "metadata": {},
   "outputs": [
    {
     "name": "stdout",
     "output_type": "stream",
     "text": [
      "Converting \"time\" to \"<class 'numpy.int64'>\"...\n"
     ]
    },
    {
     "data": {
      "text/plain": [
       "pandas.core.frame.DataFrame"
      ]
     },
     "execution_count": 25,
     "metadata": {},
     "output_type": "execute_result"
    }
   ],
   "source": [
    "df = data.to_data_frame()\n",
    "type(df)"
   ]
  },
  {
   "cell_type": "code",
   "execution_count": 28,
   "metadata": {},
   "outputs": [
    {
     "data": {
      "text/plain": [
       "(21, 1389312)"
      ]
     },
     "execution_count": 28,
     "metadata": {},
     "output_type": "execute_result"
    }
   ],
   "source": [
    "df_np = data[:][0]\n",
    "df_np.shape"
   ]
  },
  {
   "cell_type": "code",
   "execution_count": 29,
   "metadata": {},
   "outputs": [
    {
     "data": {
      "text/plain": [
       "(1389312,)"
      ]
     },
     "execution_count": 29,
     "metadata": {},
     "output_type": "execute_result"
    }
   ],
   "source": [
    "C = np.fft.fftn(df_np)\n",
    "sum(C[0:10]).shape"
   ]
  },
  {
   "cell_type": "code",
   "execution_count": 30,
   "metadata": {},
   "outputs": [
    {
     "data": {
      "text/plain": [
       "(21, 1389312)"
      ]
     },
     "execution_count": 30,
     "metadata": {},
     "output_type": "execute_result"
    }
   ],
   "source": [
    "np.fft.fftn(df_np).shape"
   ]
  },
  {
   "cell_type": "code",
   "execution_count": 36,
   "metadata": {},
   "outputs": [],
   "source": [
    "# import matplotlib.pyplot as plt\n",
    "# import math\n",
    "# Fs=256\n",
    "# N= df_np.shape[1]\n",
    "# xdft = np.fft.fftn(df_np)\n",
    "# xdft = xdft[1 : (int)(N/2)+1];\n",
    "# xdft = abs(xdft)\n",
    "# psdx = (1/(Fs*N)) * xdft * xdft;\n",
    "# psdx[2:N-1] = 2 * psdx[2:N-1];\n",
    "# freq = range(0, int(Fs/N), int(Fs/2));\n",
    "# # plt.plot(freq, 10*math.log10(psdx))\n",
    "# xdft.shape"
   ]
  },
  {
   "cell_type": "code",
   "execution_count": 43,
   "metadata": {},
   "outputs": [
    {
     "data": {
      "text/plain": [
       "array([[ 0.,  0.],\n",
       "       [ 0.,  0.],\n",
       "       [ 0.,  5.],\n",
       "       [ 0.,  0.],\n",
       "       [ 0.,  0.]])"
      ]
     },
     "execution_count": 43,
     "metadata": {},
     "output_type": "execute_result"
    }
   ],
   "source": [
    "# df = df_np[:,:(20*256)]\n",
    "df = df_np\n",
    "df.shape\n",
    "df.shape[1]\n",
    "\n",
    "a = np.zeros(shape=(5,2))\n",
    "a[2][1] = 5\n",
    "a"
   ]
  },
  {
   "cell_type": "code",
   "execution_count": 47,
   "metadata": {},
   "outputs": [
    {
     "name": "stdout",
     "output_type": "stream",
     "text": [
      "(21, 694657)\n",
      "2538.8377089\n",
      "45.2585778424\n",
      "20.7657910129\n",
      "11.5790214503\n",
      "3.09981760296\n"
     ]
    },
    {
     "data": {
      "image/png": "[encoded data removed]",
      "text/plain": [
       "<Figure size 432x288 with 1 Axes>"
      ]
     },
     "metadata": {
      "needs_background": "light"
     },
     "output_type": "display_data"
    }
   ],
   "source": [
    "import numpy as np\n",
    "\n",
    "fs = 256                                \n",
    "data = df_np \n",
    "N = data.shape[1] # total num of points = 1389312\n",
    "\n",
    "# Get real amplitudes of FFT (only in postive frequencies)\n",
    "fft_vals = np.absolute(np.fft.rfft(data))\n",
    "\n",
    "# FORMULA from some online post\n",
    "# psd_vals = (1/(fs*N)) * xdft * xdft;\n",
    "\n",
    "n_rows = fft_vals.shape[0]\n",
    "n_cols = fft_vals.shape[1]\n",
    "psd_vals = np.zeros(shape=(n_rows, n_cols))\n",
    "\n",
    "for i in range(n_rows):\n",
    "    for j in range(n_cols):\n",
    "        psd_vals[i][j] = (N/fs) * fft_vals[i][j] * fft_vals[i][j];\n",
    "\n",
    "print(psd_vals.shape)\n",
    "\n",
    "# Get frequencies for amplitudes in Hz\n",
    "fft_freq = np.fft.rfftfreq(data.shape[1], 1.0/fs)\n",
    "\n",
    "# Define EEG bands\n",
    "eeg_bands = {'Delta': (0, 4),\n",
    "             'Theta': (4, 8),\n",
    "             'Alpha': (8, 12),\n",
    "             'Beta': (12, 30),\n",
    "             'Gamma': (30, 45)}\n",
    "\n",
    "# Take the mean of the fft amplitude for each EEG band\n",
    "eeg_band_fft = dict()\n",
    "for band in eeg_bands:  \n",
    "    freq_ix = np.where((fft_freq >= eeg_bands[band][0]) & \n",
    "                       (fft_freq <= eeg_bands[band][1]))[0]\n",
    "    eeg_band_fft[band] = np.mean(psd_vals[:,freq_ix])\n",
    "\n",
    "# Plot the data (using pandas here cause it's easy)\n",
    "import pandas as pd\n",
    "df = pd.DataFrame(columns=['band', 'val'])\n",
    "df['band'] = eeg_bands.keys()\n",
    "df['val'] = [eeg_band_fft[band] for band in eeg_bands]\n",
    "ax = df.plot.bar(x='band', y='val', legend=False)\n",
    "ax.set_xlabel(\"EEG band\")\n",
    "ax.set_ylabel(\"Mean PSD\")\n",
    "\n",
    "for band in eeg_bands:\n",
    "    print(eeg_band_fft[band])"
   ]
  }
 ],
 "metadata": {
  "kernelspec": {
   "display_name": "Python 3",
   "language": "python",
   "name": "python3"
  },
  "language_info": {
   "codemirror_mode": {
    "name": "ipython",
    "version": 3
   },
   "file_extension": ".py",
   "mimetype": "text/x-python",
   "name": "python",
   "nbconvert_exporter": "python",
   "pygments_lexer": "ipython3",
   "version": "3.6.9"
  }
 },
 "nbformat": 4,
 "nbformat_minor": 4
}
