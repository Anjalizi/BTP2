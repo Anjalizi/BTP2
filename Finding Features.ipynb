{
 "cells": [
  {
   "cell_type": "code",
   "execution_count": 1,
   "metadata": {},
   "outputs": [],
   "source": [
    "import mne\n",
    "import numpy as np"
   ]
  },
  {
   "cell_type": "code",
   "execution_count": 2,
   "metadata": {},
   "outputs": [
    {
     "name": "stdout",
     "output_type": "stream",
     "text": [
      "Extracting EDF parameters from /home/anjali/Desktop/Mehnat/BTP2/Splitted Files/eeg_19/eeg19_1.edf...\n",
      "EDF file detected\n",
      "Setting channel info structure...\n",
      "Creating raw.info structure...\n",
      "Reading 0 ... 255  =      0.000 ...     0.996 secs...\n"
     ]
    }
   ],
   "source": [
    "data = mne.io.read_raw_edf('Splitted Files/eeg_19/eeg19_1.edf', preload=True)"
   ]
  },
  {
   "cell_type": "code",
   "execution_count": 3,
   "metadata": {},
   "outputs": [
    {
     "name": "stdout",
     "output_type": "stream",
     "text": [
      "Converting \"time\" to \"<class 'numpy.int64'>\"...\n"
     ]
    },
    {
     "name": "stderr",
     "output_type": "stream",
     "text": [
      "/home/anjali/Desktop/Mehnat/BTP2/pyeeg.py:858: FutureWarning: `rcond` parameter will change to the default of machine precision times ``max(M, N)`` where M and N are the input matrix dimensions.\n",
      "To use the future default and silence this warning we advise to pass `rcond=None`, to keep using the old, explicitly pass `rcond=-1`.\n",
      "  Alpha = lstsq(vstack([log(L), ones(len(L))]).T,log(F))[0][0]\n"
     ]
    },
    {
     "data": {
      "text/plain": [
       "0.0"
      ]
     },
     "execution_count": 3,
     "metadata": {},
     "output_type": "execute_result"
    }
   ],
   "source": [
    "import pyeeg as p\n",
    "df = data.to_data_frame()\n",
    "p.dfa(df)"
   ]
  },
  {
   "cell_type": "code",
   "execution_count": 4,
   "metadata": {},
   "outputs": [],
   "source": [
    "def bp(X, Band, Fs):\n",
    "    C = np.fft.fft(X)\n",
    "    C = abs(C)\n",
    "    print(C.shape)\n",
    "    Power = np.zeros(len(Band)-1);\n",
    "    for Freq_Index in range(0,len(Band)-1):\n",
    "        Freq = float(Band[Freq_Index])\n",
    "        Next_Freq = float(Band[Freq_Index+1])\n",
    "        # print(Freq, Next_Freq)\n",
    "        power_Calc = 0\n",
    "        left_lim = (int)(Freq)\n",
    "        right_lim = (int)(Next_Freq)\n",
    "        for row in range(left_lim, right_lim):\n",
    "            for col in range(21):\n",
    "                power_Calc += C[row][col]\n",
    "        Power[Freq_Index] = power_Calc\n",
    "    Power_Ratio = Power/sum(Power)\n",
    "    return Power, Power_Ratio"
   ]
  },
  {
   "cell_type": "code",
   "execution_count": 5,
   "metadata": {},
   "outputs": [
    {
     "name": "stdout",
     "output_type": "stream",
     "text": [
      "(256, 21)\n"
     ]
    },
    {
     "data": {
      "text/plain": [
       "0.5816357028004554"
      ]
     },
     "execution_count": 5,
     "metadata": {},
     "output_type": "execute_result"
    }
   ],
   "source": [
    "bands = [0.5,4,8,12,30]\n",
    "power, power_ratio = bp(df, bands, 256)\n",
    "p.spectral_entropy(df, bands, 256, power_ratio)"
   ]
  },
  {
   "cell_type": "code",
   "execution_count": 6,
   "metadata": {},
   "outputs": [
    {
     "name": "stdout",
     "output_type": "stream",
     "text": [
      "(256, 21)\n"
     ]
    },
    {
     "data": {
      "text/plain": [
       "(array([6624.72186014, 6994.25209897]), array([0.48643326, 0.51356674]))"
      ]
     },
     "execution_count": 6,
     "metadata": {},
     "output_type": "execute_result"
    }
   ],
   "source": [
    "bp(df, [0.5,4,8], 256)"
   ]
  },
  {
   "cell_type": "code",
   "execution_count": 7,
   "metadata": {},
   "outputs": [
    {
     "name": "stdout",
     "output_type": "stream",
     "text": [
      "Extracting EDF parameters from /home/anjali/Desktop/Mehnat/BTP2/Splitted Files/eeg_19/eeg19_1.edf...\n",
      "EDF file detected\n",
      "Setting channel info structure...\n",
      "Creating raw.info structure...\n",
      "Reading 0 ... 255  =      0.000 ...     0.996 secs...\n",
      "Converting \"time\" to \"<class 'numpy.int64'>\"...\n"
     ]
    },
    {
     "data": {
      "text/plain": [
       "array([-0.72482078, -0.20852317,  0.47884753,  0.38021414, -0.49961771,\n",
       "        0.14039217,  0.49252372,  1.17942071,  1.04518653, -0.13852615,\n",
       "       -1.07036504, -0.98133975, -0.18341055, -0.5701919 , -0.98858092,\n",
       "        1.2259489 ,  0.53852739, -0.72421795,  1.04034628, 19.03535807,\n",
       "        0.53842011])"
      ]
     },
     "execution_count": 7,
     "metadata": {},
     "output_type": "execute_result"
    }
   ],
   "source": [
    "from scipy.stats import norm, kurtosis\n",
    "data = mne.io.read_raw_edf('Splitted Files/eeg_19/eeg19_1.edf', preload=True)\n",
    "df = data.to_data_frame()\n",
    "kurtosis(df)"
   ]
  },
  {
   "cell_type": "code",
   "execution_count": 47,
   "metadata": {},
   "outputs": [
    {
     "data": {
      "text/plain": [
       "array([-0.41640542, -0.56745396, -0.86234257,  0.96047427, -0.34953751,\n",
       "       -0.80006874,  0.33503172, -1.36104782, -0.95199763,  0.03802309,\n",
       "        0.27396718,  0.27291101, -0.85145592, -0.34704866,  0.3872629 ,\n",
       "       -1.23198798, -0.90844067, -0.02452692, -0.78706303,  3.90046816,\n",
       "       -1.16824142])"
      ]
     },
     "execution_count": 47,
     "metadata": {},
     "output_type": "execute_result"
    }
   ],
   "source": [
    "from scipy.stats import skew\n",
    "skewness = skew(df)\n",
    "skewness"
   ]
  },
  {
   "cell_type": "code",
   "execution_count": 48,
   "metadata": {},
   "outputs": [
    {
     "data": {
      "text/plain": [
       "channel\n",
       "EEG Fp1-Ref      449.850149\n",
       "EEG Fp2-Ref      196.067765\n",
       "EEG F3-Ref       192.528918\n",
       "EEG F4-Ref       147.656153\n",
       "EEG F7-Ref       940.473934\n",
       "EEG F8-Ref       196.640905\n",
       "EEG Fz-Ref       245.081693\n",
       "EEG C3-Ref       116.810146\n",
       "EEG C4-Ref        92.414149\n",
       "EEG Cz-Ref         0.052736\n",
       "EEG T3-Ref       759.685507\n",
       "EEG T5-Ref       573.475276\n",
       "EEG T4-Ref       207.853473\n",
       "EEG T6-Ref        91.346572\n",
       "EEG P3-Ref       164.936571\n",
       "EEG P4-Ref        68.353308\n",
       "EEG Pz-Ref        70.670657\n",
       "EEG O1-Ref       107.668264\n",
       "EEG O2-Ref        99.600877\n",
       "ECG EKG        11407.199259\n",
       "Resp Effort        0.790360\n",
       "dtype: float64"
      ]
     },
     "execution_count": 48,
     "metadata": {},
     "output_type": "execute_result"
    }
   ],
   "source": [
    "# VARIANCE\n",
    "\n",
    "np.var(df)"
   ]
  },
  {
   "cell_type": "code",
   "execution_count": 56,
   "metadata": {},
   "outputs": [
    {
     "data": {
      "text/plain": [
       "768.0550796262354"
      ]
     },
     "execution_count": 56,
     "metadata": {},
     "output_type": "execute_result"
    }
   ],
   "source": [
    "variance_vals = np.var(df)\n",
    "pooled_var = 0\n",
    "sample_size = len(df)\n",
    "num_channels = df.shape[1]\n",
    "\n",
    "for val in variance_vals:\n",
    "    pooled_var += (sample_size - 1) * val\n",
    "pooled_var = pooled_var/((sample_size*num_channels) - num_channels)\n",
    "pooled_var"
   ]
  },
  {
   "cell_type": "code",
   "execution_count": 21,
   "metadata": {},
   "outputs": [
    {
     "data": {
      "text/plain": [
       "Index(['EEG Fp1-Ref', 'EEG Fp2-Ref', 'EEG F3-Ref', 'EEG F4-Ref', 'EEG F7-Ref',\n",
       "       'EEG F8-Ref', 'EEG Fz-Ref', 'EEG C3-Ref', 'EEG C4-Ref', 'EEG Cz-Ref',\n",
       "       'EEG T3-Ref', 'EEG T5-Ref', 'EEG T4-Ref', 'EEG T6-Ref', 'EEG P3-Ref',\n",
       "       'EEG P4-Ref', 'EEG Pz-Ref', 'EEG O1-Ref', 'EEG O2-Ref', 'ECG EKG',\n",
       "       'Resp Effort'],\n",
       "      dtype='object', name='channel')"
      ]
     },
     "execution_count": 21,
     "metadata": {},
     "output_type": "execute_result"
    }
   ],
   "source": [
    "df.columns"
   ]
  },
  {
   "cell_type": "code",
   "execution_count": 52,
   "metadata": {},
   "outputs": [
    {
     "data": {
      "text/plain": [
       "256"
      ]
     },
     "execution_count": 52,
     "metadata": {},
     "output_type": "execute_result"
    }
   ],
   "source": [
    "len(df)"
   ]
  },
  {
   "cell_type": "code",
   "execution_count": 35,
   "metadata": {},
   "outputs": [
    {
     "data": {
      "text/plain": [
       "0.7932692144653476"
      ]
     },
     "execution_count": 35,
     "metadata": {},
     "output_type": "execute_result"
    }
   ],
   "source": [
    "col1 = df['EEG Fp1-Ref']\n",
    "col1_numpy = col1.to_numpy()\n",
    "col1_numpy.shape\n",
    "p.hurst(col1_numpy)"
   ]
  },
  {
   "cell_type": "code",
   "execution_count": 42,
   "metadata": {},
   "outputs": [
    {
     "data": {
      "text/plain": [
       "0.6375296173752467"
      ]
     },
     "execution_count": 42,
     "metadata": {},
     "output_type": "execute_result"
    }
   ],
   "source": [
    "df_np = df.to_numpy()\n",
    "p.pfd(col1_numpy)"
   ]
  },
  {
   "cell_type": "code",
   "execution_count": 46,
   "metadata": {},
   "outputs": [
    {
     "data": {
      "text/plain": [
       "(0.004476078182613001, 190.14627844358685)"
      ]
     },
     "execution_count": 46,
     "metadata": {},
     "output_type": "execute_result"
    }
   ],
   "source": [
    "p.hjorth(col1_numpy)"
   ]
  }
 ],
 "metadata": {
  "kernelspec": {
   "display_name": "Python 3",
   "language": "python",
   "name": "python3"
  },
  "language_info": {
   "codemirror_mode": {
    "name": "ipython",
    "version": 3
   },
   "file_extension": ".py",
   "mimetype": "text/x-python",
   "name": "python",
   "nbconvert_exporter": "python",
   "pygments_lexer": "ipython3",
   "version": "3.6.9"
  }
 },
 "nbformat": 4,
 "nbformat_minor": 4
}
