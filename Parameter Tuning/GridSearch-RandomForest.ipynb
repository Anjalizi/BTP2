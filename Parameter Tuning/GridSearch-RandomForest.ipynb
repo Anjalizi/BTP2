{
 "cells": [
  {
   "cell_type": "code",
   "execution_count": 2,
   "metadata": {},
   "outputs": [],
   "source": [
    "import pandas as pd\n",
    "from sklearn.model_selection import train_test_split"
   ]
  },
  {
   "cell_type": "code",
   "execution_count": 3,
   "metadata": {},
   "outputs": [],
   "source": [
    "data = pd.read_csv('final-dataset.csv')"
   ]
  },
  {
   "cell_type": "code",
   "execution_count": 4,
   "metadata": {},
   "outputs": [
    {
     "data": {
      "text/html": [
       "<div>\n",
       "<style scoped>\n",
       "    .dataframe tbody tr th:only-of-type {\n",
       "        vertical-align: middle;\n",
       "    }\n",
       "\n",
       "    .dataframe tbody tr th {\n",
       "        vertical-align: top;\n",
       "    }\n",
       "\n",
       "    .dataframe thead th {\n",
       "        text-align: right;\n",
       "    }\n",
       "</style>\n",
       "<table border=\"1\" class=\"dataframe\">\n",
       "  <thead>\n",
       "    <tr style=\"text-align: right;\">\n",
       "      <th></th>\n",
       "      <th>Signal</th>\n",
       "      <th>Mean (µV)</th>\n",
       "      <th>RMS (µV)</th>\n",
       "      <th>MRS (µV)</th>\n",
       "      <th>Zero Crossings</th>\n",
       "      <th>Frequency (Hz)</th>\n",
       "      <th>Delta (µV² /Hz)</th>\n",
       "      <th>Theta (µV² /Hz)</th>\n",
       "      <th>Alpha (µV² /Hz)</th>\n",
       "      <th>Beta (µV² /Hz)</th>\n",
       "      <th>Gamma (µV² /Hz)</th>\n",
       "      <th>Skewness</th>\n",
       "      <th>Variance</th>\n",
       "      <th>Kurtosis</th>\n",
       "      <th>Hjorth Mobility</th>\n",
       "      <th>Hjorth Complexity</th>\n",
       "      <th>Spectral Entropy</th>\n",
       "      <th>Hurst Component</th>\n",
       "      <th>Label</th>\n",
       "    </tr>\n",
       "  </thead>\n",
       "  <tbody>\n",
       "    <tr>\n",
       "      <th>0</th>\n",
       "      <td>e1.1</td>\n",
       "      <td>-111.543263</td>\n",
       "      <td>165.326922</td>\n",
       "      <td>137.464510</td>\n",
       "      <td>6</td>\n",
       "      <td>3.0</td>\n",
       "      <td>13.871195</td>\n",
       "      <td>0.216515</td>\n",
       "      <td>0.157400</td>\n",
       "      <td>0.471267</td>\n",
       "      <td>0.360638</td>\n",
       "      <td>0.239330</td>\n",
       "      <td>615.079709</td>\n",
       "      <td>0.910075</td>\n",
       "      <td>0.022921</td>\n",
       "      <td>73.652201</td>\n",
       "      <td>0.182409</td>\n",
       "      <td>NaN</td>\n",
       "      <td>0</td>\n",
       "    </tr>\n",
       "    <tr>\n",
       "      <th>1</th>\n",
       "      <td>e1.2</td>\n",
       "      <td>-85.046038</td>\n",
       "      <td>140.633143</td>\n",
       "      <td>111.886389</td>\n",
       "      <td>6</td>\n",
       "      <td>3.0</td>\n",
       "      <td>5.126801</td>\n",
       "      <td>0.176441</td>\n",
       "      <td>0.151454</td>\n",
       "      <td>0.471898</td>\n",
       "      <td>0.364846</td>\n",
       "      <td>0.342664</td>\n",
       "      <td>591.548572</td>\n",
       "      <td>1.188751</td>\n",
       "      <td>0.026908</td>\n",
       "      <td>62.185689</td>\n",
       "      <td>0.342378</td>\n",
       "      <td>0.749905</td>\n",
       "      <td>0</td>\n",
       "    </tr>\n",
       "    <tr>\n",
       "      <th>2</th>\n",
       "      <td>e1.3</td>\n",
       "      <td>-46.838299</td>\n",
       "      <td>126.812428</td>\n",
       "      <td>85.819704</td>\n",
       "      <td>16</td>\n",
       "      <td>8.0</td>\n",
       "      <td>1.261876</td>\n",
       "      <td>0.181805</td>\n",
       "      <td>0.161871</td>\n",
       "      <td>0.472354</td>\n",
       "      <td>0.372668</td>\n",
       "      <td>0.162705</td>\n",
       "      <td>597.730063</td>\n",
       "      <td>1.117822</td>\n",
       "      <td>0.019291</td>\n",
       "      <td>77.478691</td>\n",
       "      <td>0.640952</td>\n",
       "      <td>NaN</td>\n",
       "      <td>0</td>\n",
       "    </tr>\n",
       "    <tr>\n",
       "      <th>3</th>\n",
       "      <td>e1.4</td>\n",
       "      <td>-47.013536</td>\n",
       "      <td>143.652350</td>\n",
       "      <td>91.850550</td>\n",
       "      <td>7</td>\n",
       "      <td>3.5</td>\n",
       "      <td>0.899144</td>\n",
       "      <td>0.212408</td>\n",
       "      <td>0.298429</td>\n",
       "      <td>0.738894</td>\n",
       "      <td>0.501854</td>\n",
       "      <td>0.070902</td>\n",
       "      <td>881.616631</td>\n",
       "      <td>0.533297</td>\n",
       "      <td>0.018705</td>\n",
       "      <td>89.823036</td>\n",
       "      <td>0.727563</td>\n",
       "      <td>NaN</td>\n",
       "      <td>0</td>\n",
       "    </tr>\n",
       "    <tr>\n",
       "      <th>4</th>\n",
       "      <td>e1.5</td>\n",
       "      <td>-15.339653</td>\n",
       "      <td>113.011520</td>\n",
       "      <td>53.273050</td>\n",
       "      <td>24</td>\n",
       "      <td>12.0</td>\n",
       "      <td>0.423585</td>\n",
       "      <td>0.195163</td>\n",
       "      <td>0.150992</td>\n",
       "      <td>0.484105</td>\n",
       "      <td>0.371071</td>\n",
       "      <td>0.118651</td>\n",
       "      <td>590.152352</td>\n",
       "      <td>1.311522</td>\n",
       "      <td>0.025437</td>\n",
       "      <td>72.822080</td>\n",
       "      <td>0.737258</td>\n",
       "      <td>NaN</td>\n",
       "      <td>0</td>\n",
       "    </tr>\n",
       "    <tr>\n",
       "      <th>...</th>\n",
       "      <td>...</td>\n",
       "      <td>...</td>\n",
       "      <td>...</td>\n",
       "      <td>...</td>\n",
       "      <td>...</td>\n",
       "      <td>...</td>\n",
       "      <td>...</td>\n",
       "      <td>...</td>\n",
       "      <td>...</td>\n",
       "      <td>...</td>\n",
       "      <td>...</td>\n",
       "      <td>...</td>\n",
       "      <td>...</td>\n",
       "      <td>...</td>\n",
       "      <td>...</td>\n",
       "      <td>...</td>\n",
       "      <td>...</td>\n",
       "      <td>...</td>\n",
       "      <td>...</td>\n",
       "    </tr>\n",
       "    <tr>\n",
       "      <th>1395</th>\n",
       "      <td>e44.16</td>\n",
       "      <td>36.186700</td>\n",
       "      <td>212.914300</td>\n",
       "      <td>183.361700</td>\n",
       "      <td>16</td>\n",
       "      <td>8.0</td>\n",
       "      <td>4.773178</td>\n",
       "      <td>0.057969</td>\n",
       "      <td>0.056995</td>\n",
       "      <td>0.064938</td>\n",
       "      <td>0.028870</td>\n",
       "      <td>-0.215252</td>\n",
       "      <td>4546.932985</td>\n",
       "      <td>-0.300456</td>\n",
       "      <td>0.013047</td>\n",
       "      <td>183.012787</td>\n",
       "      <td>0.124612</td>\n",
       "      <td>NaN</td>\n",
       "      <td>1</td>\n",
       "    </tr>\n",
       "    <tr>\n",
       "      <th>1396</th>\n",
       "      <td>e44.17</td>\n",
       "      <td>16.071300</td>\n",
       "      <td>197.450300</td>\n",
       "      <td>164.779100</td>\n",
       "      <td>16</td>\n",
       "      <td>8.0</td>\n",
       "      <td>4.597643</td>\n",
       "      <td>0.086384</td>\n",
       "      <td>0.079297</td>\n",
       "      <td>0.070025</td>\n",
       "      <td>0.023665</td>\n",
       "      <td>-0.273938</td>\n",
       "      <td>4531.675869</td>\n",
       "      <td>-0.580865</td>\n",
       "      <td>0.011399</td>\n",
       "      <td>187.310378</td>\n",
       "      <td>0.156523</td>\n",
       "      <td>0.795698</td>\n",
       "      <td>1</td>\n",
       "    </tr>\n",
       "    <tr>\n",
       "      <th>1397</th>\n",
       "      <td>e44.18</td>\n",
       "      <td>26.099800</td>\n",
       "      <td>179.550900</td>\n",
       "      <td>150.289800</td>\n",
       "      <td>12</td>\n",
       "      <td>6.0</td>\n",
       "      <td>3.820986</td>\n",
       "      <td>0.075286</td>\n",
       "      <td>0.063749</td>\n",
       "      <td>0.075981</td>\n",
       "      <td>0.025731</td>\n",
       "      <td>-0.102428</td>\n",
       "      <td>4421.209140</td>\n",
       "      <td>-0.564450</td>\n",
       "      <td>0.011609</td>\n",
       "      <td>196.145342</td>\n",
       "      <td>0.168403</td>\n",
       "      <td>0.797093</td>\n",
       "      <td>1</td>\n",
       "    </tr>\n",
       "    <tr>\n",
       "      <th>1398</th>\n",
       "      <td>e44.19</td>\n",
       "      <td>8.691700</td>\n",
       "      <td>180.441800</td>\n",
       "      <td>156.137900</td>\n",
       "      <td>8</td>\n",
       "      <td>4.0</td>\n",
       "      <td>3.697704</td>\n",
       "      <td>0.048950</td>\n",
       "      <td>0.050061</td>\n",
       "      <td>0.063681</td>\n",
       "      <td>0.028765</td>\n",
       "      <td>-0.068861</td>\n",
       "      <td>4396.225067</td>\n",
       "      <td>-0.394728</td>\n",
       "      <td>0.012525</td>\n",
       "      <td>173.992468</td>\n",
       "      <td>0.140683</td>\n",
       "      <td>NaN</td>\n",
       "      <td>1</td>\n",
       "    </tr>\n",
       "    <tr>\n",
       "      <th>1399</th>\n",
       "      <td>e44.20</td>\n",
       "      <td>35.904200</td>\n",
       "      <td>176.447600</td>\n",
       "      <td>149.172000</td>\n",
       "      <td>10</td>\n",
       "      <td>5.0</td>\n",
       "      <td>3.357493</td>\n",
       "      <td>0.052819</td>\n",
       "      <td>0.051286</td>\n",
       "      <td>0.064611</td>\n",
       "      <td>0.026055</td>\n",
       "      <td>-0.067294</td>\n",
       "      <td>4333.402957</td>\n",
       "      <td>-0.549712</td>\n",
       "      <td>0.012290</td>\n",
       "      <td>176.691392</td>\n",
       "      <td>0.155297</td>\n",
       "      <td>0.792215</td>\n",
       "      <td>1</td>\n",
       "    </tr>\n",
       "  </tbody>\n",
       "</table>\n",
       "<p>1400 rows × 19 columns</p>\n",
       "</div>"
      ],
      "text/plain": [
       "      Signal   Mean (µV)    RMS (µV)    MRS (µV)  Zero Crossings  \\\n",
       "0       e1.1 -111.543263  165.326922  137.464510               6   \n",
       "1       e1.2  -85.046038  140.633143  111.886389               6   \n",
       "2       e1.3  -46.838299  126.812428   85.819704              16   \n",
       "3       e1.4  -47.013536  143.652350   91.850550               7   \n",
       "4       e1.5  -15.339653  113.011520   53.273050              24   \n",
       "...      ...         ...         ...         ...             ...   \n",
       "1395  e44.16   36.186700  212.914300  183.361700              16   \n",
       "1396  e44.17   16.071300  197.450300  164.779100              16   \n",
       "1397  e44.18   26.099800  179.550900  150.289800              12   \n",
       "1398  e44.19    8.691700  180.441800  156.137900               8   \n",
       "1399  e44.20   35.904200  176.447600  149.172000              10   \n",
       "\n",
       "      Frequency (Hz)  Delta (µV² /Hz)  Theta (µV² /Hz)  Alpha (µV² /Hz)  \\\n",
       "0                3.0        13.871195         0.216515         0.157400   \n",
       "1                3.0         5.126801         0.176441         0.151454   \n",
       "2                8.0         1.261876         0.181805         0.161871   \n",
       "3                3.5         0.899144         0.212408         0.298429   \n",
       "4               12.0         0.423585         0.195163         0.150992   \n",
       "...              ...              ...              ...              ...   \n",
       "1395             8.0         4.773178         0.057969         0.056995   \n",
       "1396             8.0         4.597643         0.086384         0.079297   \n",
       "1397             6.0         3.820986         0.075286         0.063749   \n",
       "1398             4.0         3.697704         0.048950         0.050061   \n",
       "1399             5.0         3.357493         0.052819         0.051286   \n",
       "\n",
       "      Beta (µV² /Hz)  Gamma (µV² /Hz)  Skewness     Variance  Kurtosis  \\\n",
       "0           0.471267         0.360638  0.239330   615.079709  0.910075   \n",
       "1           0.471898         0.364846  0.342664   591.548572  1.188751   \n",
       "2           0.472354         0.372668  0.162705   597.730063  1.117822   \n",
       "3           0.738894         0.501854  0.070902   881.616631  0.533297   \n",
       "4           0.484105         0.371071  0.118651   590.152352  1.311522   \n",
       "...              ...              ...       ...          ...       ...   \n",
       "1395        0.064938         0.028870 -0.215252  4546.932985 -0.300456   \n",
       "1396        0.070025         0.023665 -0.273938  4531.675869 -0.580865   \n",
       "1397        0.075981         0.025731 -0.102428  4421.209140 -0.564450   \n",
       "1398        0.063681         0.028765 -0.068861  4396.225067 -0.394728   \n",
       "1399        0.064611         0.026055 -0.067294  4333.402957 -0.549712   \n",
       "\n",
       "      Hjorth Mobility  Hjorth Complexity  Spectral Entropy  Hurst Component  \\\n",
       "0            0.022921          73.652201          0.182409              NaN   \n",
       "1            0.026908          62.185689          0.342378         0.749905   \n",
       "2            0.019291          77.478691          0.640952              NaN   \n",
       "3            0.018705          89.823036          0.727563              NaN   \n",
       "4            0.025437          72.822080          0.737258              NaN   \n",
       "...               ...                ...               ...              ...   \n",
       "1395         0.013047         183.012787          0.124612              NaN   \n",
       "1396         0.011399         187.310378          0.156523         0.795698   \n",
       "1397         0.011609         196.145342          0.168403         0.797093   \n",
       "1398         0.012525         173.992468          0.140683              NaN   \n",
       "1399         0.012290         176.691392          0.155297         0.792215   \n",
       "\n",
       "      Label  \n",
       "0         0  \n",
       "1         0  \n",
       "2         0  \n",
       "3         0  \n",
       "4         0  \n",
       "...     ...  \n",
       "1395      1  \n",
       "1396      1  \n",
       "1397      1  \n",
       "1398      1  \n",
       "1399      1  \n",
       "\n",
       "[1400 rows x 19 columns]"
      ]
     },
     "execution_count": 4,
     "metadata": {},
     "output_type": "execute_result"
    }
   ],
   "source": [
    "data"
   ]
  },
  {
   "cell_type": "code",
   "execution_count": 5,
   "metadata": {},
   "outputs": [],
   "source": [
    "X = data.drop(columns=['Signal','Label','Hurst Component'])\n",
    "y = data['Label']"
   ]
  },
  {
   "cell_type": "code",
   "execution_count": 6,
   "metadata": {},
   "outputs": [
    {
     "data": {
      "text/plain": [
       "Index(['Mean (µV)', 'RMS (µV)', 'MRS (µV)', 'Zero Crossings', 'Frequency (Hz)',\n",
       "       'Delta (µV² /Hz)', 'Theta (µV² /Hz)', 'Alpha (µV² /Hz)',\n",
       "       'Beta (µV² /Hz)', 'Gamma (µV² /Hz)', 'Skewness', 'Variance', 'Kurtosis',\n",
       "       'Hjorth Mobility', 'Hjorth Complexity', 'Spectral Entropy'],\n",
       "      dtype='object')"
      ]
     },
     "execution_count": 6,
     "metadata": {},
     "output_type": "execute_result"
    }
   ],
   "source": [
    "features = X.columns\n",
    "features"
   ]
  },
  {
   "cell_type": "code",
   "execution_count": 6,
   "metadata": {},
   "outputs": [],
   "source": [
    "X_train, X_test, y_train, y_test = train_test_split(X, y, test_size=0.3, random_state=0)"
   ]
  },
  {
   "cell_type": "code",
   "execution_count": 7,
   "metadata": {},
   "outputs": [],
   "source": [
    "x_val, x_test, y_val, y_test = train_test_split(X_test, y_test, test_size=0.5, random_state=0)"
   ]
  },
  {
   "cell_type": "code",
   "execution_count": 8,
   "metadata": {},
   "outputs": [
    {
     "data": {
      "text/plain": [
       "(980, 16)"
      ]
     },
     "execution_count": 8,
     "metadata": {},
     "output_type": "execute_result"
    }
   ],
   "source": [
    "from sklearn import preprocessing as pre\n",
    "X_train = pre.scale(X_train)\n",
    "x_test = pre.scale(x_test)\n",
    "x_val = pre.scale(x_val)\n",
    "X_train.shape"
   ]
  },
  {
   "cell_type": "code",
   "execution_count": 7,
   "metadata": {},
   "outputs": [],
   "source": [
    "from sklearn.model_selection import GridSearchCV"
   ]
  },
  {
   "cell_type": "code",
   "execution_count": 8,
   "metadata": {},
   "outputs": [],
   "source": [
    "from sklearn.ensemble import RandomForestClassifier\n",
    "parameters = {'criterion':('gini', 'entropy'), 'class_weight':('balanced', 'balanced_subsample'), 'max_features':('auto', 'sqrt','log2')}\n",
    "clf = RandomForestClassifier(random_state=0)\n",
    "clf = GridSearchCV(clf, parameters)"
   ]
  },
  {
   "cell_type": "code",
   "execution_count": 11,
   "metadata": {},
   "outputs": [
    {
     "data": {
      "text/plain": [
       "GridSearchCV(estimator=RandomForestClassifier(random_state=0),\n",
       "             param_grid={'class_weight': ('balanced', 'balanced_subsample'),\n",
       "                         'criterion': ('gini', 'entropy'),\n",
       "                         'max_features': ('auto', 'sqrt', 'log2')})"
      ]
     },
     "execution_count": 11,
     "metadata": {},
     "output_type": "execute_result"
    }
   ],
   "source": [
    "clf.fit(X_train, y_train)"
   ]
  },
  {
   "cell_type": "code",
   "execution_count": 12,
   "metadata": {},
   "outputs": [
    {
     "data": {
      "text/plain": [
       "{'class_weight': 'balanced', 'criterion': 'entropy', 'max_features': 'auto'}"
      ]
     },
     "execution_count": 12,
     "metadata": {},
     "output_type": "execute_result"
    }
   ],
   "source": [
    "clf.best_params_"
   ]
  },
  {
   "cell_type": "code",
   "execution_count": 13,
   "metadata": {},
   "outputs": [
    {
     "data": {
      "text/plain": [
       "0.5476190476190477"
      ]
     },
     "execution_count": 13,
     "metadata": {},
     "output_type": "execute_result"
    }
   ],
   "source": [
    "clf.score(x_val, y_val)"
   ]
  },
  {
   "cell_type": "code",
   "execution_count": 14,
   "metadata": {},
   "outputs": [
    {
     "data": {
      "text/plain": [
       "0.5952380952380952"
      ]
     },
     "execution_count": 14,
     "metadata": {},
     "output_type": "execute_result"
    }
   ],
   "source": [
    "clf.score(x_test, y_test)"
   ]
  },
  {
   "cell_type": "code",
   "execution_count": 15,
   "metadata": {},
   "outputs": [
    {
     "name": "stdout",
     "output_type": "stream",
     "text": [
      "Specificity is :  0.39622641509433965\n",
      "Accuracy is :  0.5952380952380952\n",
      "Sensitivity is :  0.7980769230769231\n"
     ]
    }
   ],
   "source": [
    "y_pred = clf.predict(x_test)\n",
    "from sklearn.metrics import confusion_matrix\n",
    "y_true = y_test\n",
    "tn, fp, fn, tp = confusion_matrix(y_true, y_pred).ravel()\n",
    "specificity = tn / (tn+fp)\n",
    "print(\"Specificity is : \" , specificity)\n",
    "accuracy = (tp + tn) / (tp + tn + fp + fn)\n",
    "print(\"Accuracy is : \" , accuracy)\n",
    "sensitivity = tp / (tp + fn)\n",
    "print(\"Sensitivity is : \" , sensitivity)"
   ]
  },
  {
   "cell_type": "code",
   "execution_count": 10,
   "metadata": {},
   "outputs": [
    {
     "data": {
      "image/png": "[encoded data removed]",
      "text/plain": [
       "<Figure size 432x288 with 1 Axes>"
      ]
     },
     "metadata": {
      "needs_background": "light"
     },
     "output_type": "display_data"
    }
   ],
   "source": [
    "import matplotlib.pyplot as plt  \n",
    "from sklearn import preprocessing as pre\n",
    "from sklearn import datasets, metrics, model_selection\n",
    "\n",
    "X = pre.scale(X)\n",
    "X_train, X_test, y_train, y_test = train_test_split(X, y, test_size=0.3, random_state=0)\n",
    "x_val, x_test, y_val, y_test = train_test_split(X_test, y_test, test_size=0.5, random_state=0)\n",
    "clf = RandomForestClassifier(random_state=0)\n",
    "clf = GridSearchCV(clf, parameters)\n",
    "clf.fit(X_train, y_train)\n",
    "metrics.plot_roc_curve(clf, x_test, y_test) \n",
    "plt.title(\"ROC Curve for RF Classifier with NO Feature Selection\")\n",
    "plt.show()  "
   ]
  }
 ],
 "metadata": {
  "kernelspec": {
   "display_name": "Python 3",
   "language": "python",
   "name": "python3"
  },
  "language_info": {
   "codemirror_mode": {
    "name": "ipython",
    "version": 3
   },
   "file_extension": ".py",
   "mimetype": "text/x-python",
   "name": "python",
   "nbconvert_exporter": "python",
   "pygments_lexer": "ipython3",
   "version": "3.6.6"
  }
 },
 "nbformat": 4,
 "nbformat_minor": 4
}
