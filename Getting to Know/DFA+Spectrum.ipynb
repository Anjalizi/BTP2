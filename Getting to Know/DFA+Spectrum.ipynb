{
 "cells": [
  {
   "cell_type": "code",
   "execution_count": 1,
   "metadata": {},
   "outputs": [],
   "source": [
    "import numpy as np\n",
    "import matplotlib.pyplot as plt\n",
    "\n",
    "import mne"
   ]
  },
  {
   "cell_type": "code",
   "execution_count": 2,
   "metadata": {},
   "outputs": [
    {
     "name": "stdout",
     "output_type": "stream",
     "text": [
      "Extracting EDF parameters from /home/anjali/Desktop/Mehnat/BTP2/Splitted Files/eeg_19/eeg19_1.edf...\n",
      "EDF file detected\n",
      "Setting channel info structure...\n",
      "Creating raw.info structure...\n",
      "Reading 0 ... 255  =      0.000 ...     0.996 secs...\n"
     ]
    }
   ],
   "source": [
    "data = mne.io.read_raw_edf('Splitted Files/eeg_19/eeg19_1.edf', preload=True)"
   ]
  },
  {
   "cell_type": "code",
   "execution_count": 3,
   "metadata": {},
   "outputs": [
    {
     "name": "stdout",
     "output_type": "stream",
     "text": [
      "Converting \"time\" to \"<class 'numpy.int64'>\"...\n"
     ]
    },
    {
     "name": "stderr",
     "output_type": "stream",
     "text": [
      "/home/anjali/Desktop/Mehnat/BTP2/pyeeg.py:858: FutureWarning: `rcond` parameter will change to the default of machine precision times ``max(M, N)`` where M and N are the input matrix dimensions.\n",
      "To use the future default and silence this warning we advise to pass `rcond=None`, to keep using the old, explicitly pass `rcond=-1`.\n",
      "  Alpha = lstsq(vstack([log(L), ones(len(L))]).T,log(F))[0][0]\n"
     ]
    },
    {
     "data": {
      "text/plain": [
       "0.0"
      ]
     },
     "execution_count": 3,
     "metadata": {},
     "output_type": "execute_result"
    }
   ],
   "source": [
    "import pyeeg as p\n",
    "df = data.to_data_frame()\n",
    "p.dfa(df)\n",
    "# Power[Freq_Index] = sum(C[floor(Freq/Fs*len(X)):floor(Next_Freq/Fs*len(X))])"
   ]
  },
  {
   "cell_type": "code",
   "execution_count": 4,
   "metadata": {},
   "outputs": [
    {
     "name": "stdout",
     "output_type": "stream",
     "text": [
      "Extracting EDF parameters from /home/anjali/Desktop/Mehnat/BTP2/Splitted Files/eeg_68/68.1.edf...\n",
      "EDF file detected\n",
      "Setting channel info structure...\n",
      "Creating raw.info structure...\n",
      "Reading 0 ... 255  =      0.000 ...     0.996 secs...\n",
      "0.0\n",
      "\n",
      "\n",
      "Extracting EDF parameters from /home/anjali/Desktop/Mehnat/BTP2/Splitted Files/eeg_68/68.2.edf...\n",
      "EDF file detected\n",
      "Setting channel info structure...\n",
      "Creating raw.info structure...\n",
      "Reading 0 ... 255  =      0.000 ...     0.996 secs...\n",
      "0.0\n",
      "\n",
      "\n",
      "Extracting EDF parameters from /home/anjali/Desktop/Mehnat/BTP2/Splitted Files/eeg_68/68.3.edf...\n",
      "EDF file detected\n",
      "Setting channel info structure...\n",
      "Creating raw.info structure...\n",
      "Reading 0 ... 255  =      0.000 ...     0.996 secs...\n",
      "0.0\n",
      "\n",
      "\n",
      "Extracting EDF parameters from /home/anjali/Desktop/Mehnat/BTP2/Splitted Files/eeg_68/68.4.edf...\n",
      "EDF file detected\n",
      "Setting channel info structure...\n",
      "Creating raw.info structure...\n",
      "Reading 0 ... 255  =      0.000 ...     0.996 secs...\n",
      "0.0\n",
      "\n",
      "\n",
      "Extracting EDF parameters from /home/anjali/Desktop/Mehnat/BTP2/Splitted Files/eeg_68/68.5.edf...\n",
      "EDF file detected\n",
      "Setting channel info structure...\n",
      "Creating raw.info structure...\n",
      "Reading 0 ... 255  =      0.000 ...     0.996 secs...\n",
      "0.0\n",
      "\n",
      "\n",
      "Extracting EDF parameters from /home/anjali/Desktop/Mehnat/BTP2/Splitted Files/eeg_68/68.6.edf...\n",
      "EDF file detected\n",
      "Setting channel info structure...\n",
      "Creating raw.info structure...\n",
      "Reading 0 ... 255  =      0.000 ...     0.996 secs...\n",
      "0.0\n",
      "\n",
      "\n",
      "Extracting EDF parameters from /home/anjali/Desktop/Mehnat/BTP2/Splitted Files/eeg_68/68.7.edf...\n",
      "EDF file detected\n",
      "Setting channel info structure...\n",
      "Creating raw.info structure...\n",
      "Reading 0 ... 255  =      0.000 ...     0.996 secs...\n",
      "0.0\n",
      "\n",
      "\n",
      "Extracting EDF parameters from /home/anjali/Desktop/Mehnat/BTP2/Splitted Files/eeg_68/68.8.edf...\n",
      "EDF file detected\n",
      "Setting channel info structure...\n",
      "Creating raw.info structure...\n",
      "Reading 0 ... 255  =      0.000 ...     0.996 secs...\n",
      "0.0\n",
      "\n",
      "\n",
      "Extracting EDF parameters from /home/anjali/Desktop/Mehnat/BTP2/Splitted Files/eeg_68/68.9.edf...\n",
      "EDF file detected\n",
      "Setting channel info structure...\n",
      "Creating raw.info structure...\n",
      "Reading 0 ... 255  =      0.000 ...     0.996 secs...\n",
      "0.0\n",
      "\n",
      "\n",
      "Extracting EDF parameters from /home/anjali/Desktop/Mehnat/BTP2/Splitted Files/eeg_68/68.10.edf...\n",
      "EDF file detected\n",
      "Setting channel info structure...\n",
      "Creating raw.info structure...\n",
      "Reading 0 ... 255  =      0.000 ...     0.996 secs...\n",
      "0.0\n",
      "\n",
      "\n",
      "Extracting EDF parameters from /home/anjali/Desktop/Mehnat/BTP2/Splitted Files/eeg_68/68.11.edf...\n",
      "EDF file detected\n",
      "Setting channel info structure...\n",
      "Creating raw.info structure...\n",
      "Reading 0 ... 255  =      0.000 ...     0.996 secs...\n",
      "0.0\n",
      "\n",
      "\n",
      "Extracting EDF parameters from /home/anjali/Desktop/Mehnat/BTP2/Splitted Files/eeg_68/68.12.edf...\n",
      "EDF file detected\n",
      "Setting channel info structure...\n",
      "Creating raw.info structure...\n",
      "Reading 0 ... 255  =      0.000 ...     0.996 secs...\n",
      "0.0\n",
      "\n",
      "\n",
      "Extracting EDF parameters from /home/anjali/Desktop/Mehnat/BTP2/Splitted Files/eeg_68/68.13.edf...\n",
      "EDF file detected\n",
      "Setting channel info structure...\n",
      "Creating raw.info structure...\n",
      "Reading 0 ... 255  =      0.000 ...     0.996 secs...\n",
      "0.0\n",
      "\n",
      "\n",
      "Extracting EDF parameters from /home/anjali/Desktop/Mehnat/BTP2/Splitted Files/eeg_68/68.14.edf...\n",
      "EDF file detected\n",
      "Setting channel info structure...\n",
      "Creating raw.info structure...\n",
      "Reading 0 ... 255  =      0.000 ...     0.996 secs...\n",
      "0.0\n",
      "\n",
      "\n",
      "Extracting EDF parameters from /home/anjali/Desktop/Mehnat/BTP2/Splitted Files/eeg_68/68.15.edf...\n",
      "EDF file detected\n",
      "Setting channel info structure...\n",
      "Creating raw.info structure...\n",
      "Reading 0 ... 255  =      0.000 ...     0.996 secs...\n",
      "0.0\n",
      "\n",
      "\n",
      "Extracting EDF parameters from /home/anjali/Desktop/Mehnat/BTP2/Splitted Files/eeg_68/68.16.edf...\n",
      "EDF file detected\n",
      "Setting channel info structure...\n",
      "Creating raw.info structure...\n",
      "Reading 0 ... 255  =      0.000 ...     0.996 secs...\n",
      "0.0\n",
      "\n",
      "\n",
      "Extracting EDF parameters from /home/anjali/Desktop/Mehnat/BTP2/Splitted Files/eeg_68/68.17.edf...\n",
      "EDF file detected\n",
      "Setting channel info structure...\n",
      "Creating raw.info structure...\n",
      "Reading 0 ... 255  =      0.000 ...     0.996 secs...\n",
      "0.0\n",
      "\n",
      "\n",
      "Extracting EDF parameters from /home/anjali/Desktop/Mehnat/BTP2/Splitted Files/eeg_68/68.18.edf...\n",
      "EDF file detected\n",
      "Setting channel info structure...\n",
      "Creating raw.info structure...\n",
      "Reading 0 ... 255  =      0.000 ...     0.996 secs...\n",
      "0.0\n",
      "\n",
      "\n",
      "Extracting EDF parameters from /home/anjali/Desktop/Mehnat/BTP2/Splitted Files/eeg_68/68.19.edf...\n",
      "EDF file detected\n",
      "Setting channel info structure...\n",
      "Creating raw.info structure...\n",
      "Reading 0 ... 255  =      0.000 ...     0.996 secs...\n",
      "0.0\n",
      "\n",
      "\n",
      "Extracting EDF parameters from /home/anjali/Desktop/Mehnat/BTP2/Splitted Files/eeg_68/68.20.edf...\n",
      "EDF file detected\n",
      "Setting channel info structure...\n",
      "Creating raw.info structure...\n",
      "Reading 0 ... 255  =      0.000 ...     0.996 secs...\n",
      "0.0\n",
      "\n",
      "\n"
     ]
    }
   ],
   "source": [
    "for row in range(20):\n",
    "    row_to_add = []\n",
    "    data = mne.io.read_raw_edf('./Splitted Files/eeg_68/68.{}.edf'.format(row+1), preload=True)\n",
    "    data = data[:][0]\n",
    "    print(p.dfa(data))\n",
    "    print(\"\\n\")"
   ]
  },
  {
   "cell_type": "code",
   "execution_count": 5,
   "metadata": {},
   "outputs": [],
   "source": [
    "def bp(X, Band, Fs):\n",
    "    C = np.fft.fft(X)\n",
    "    C = abs(C)\n",
    "    print(C.shape)\n",
    "    Power = np.zeros(len(Band)-1);\n",
    "    for Freq_Index in range(0,len(Band)-1):\n",
    "        Freq = float(Band[Freq_Index])\n",
    "        Next_Freq = float(Band[Freq_Index+1])\n",
    "        # print(Freq, Next_Freq)\n",
    "        power_Calc = 0\n",
    "        left_lim = (int)(Freq)\n",
    "        right_lim = (int)(Next_Freq)\n",
    "        for row in range(left_lim, right_lim):\n",
    "            for col in range(21):\n",
    "                power_Calc += C[row][col]\n",
    "        Power[Freq_Index] = power_Calc\n",
    "    Power_Ratio = Power/sum(Power)\n",
    "    return Power, Power_Ratio"
   ]
  },
  {
   "cell_type": "code",
   "execution_count": 6,
   "metadata": {},
   "outputs": [
    {
     "name": "stdout",
     "output_type": "stream",
     "text": [
      "(256, 21)\n"
     ]
    },
    {
     "data": {
      "text/plain": [
       "(array([ 6624.72186014,  6994.25209897,  7214.19580129, 31172.35822796]),\n",
       " array([0.12738496, 0.13449055, 0.13871979, 0.59940471]))"
      ]
     },
     "execution_count": 6,
     "metadata": {},
     "output_type": "execute_result"
    }
   ],
   "source": [
    "bp(df, [0.5,4,8,12,30], 256)"
   ]
  },
  {
   "cell_type": "code",
   "execution_count": 7,
   "metadata": {},
   "outputs": [
    {
     "data": {
      "text/plain": [
       "0"
      ]
     },
     "execution_count": 7,
     "metadata": {},
     "output_type": "execute_result"
    }
   ],
   "source": [
    "arr = np.zeros(5)\n",
    "arr[0] = 5\n",
    "arr\n",
    "Band = [0.5,4,7]\n",
    "Freq = float(Band[0])\n",
    "(int)(Freq)"
   ]
  },
  {
   "cell_type": "code",
   "execution_count": 8,
   "metadata": {},
   "outputs": [
    {
     "data": {
      "text/plain": [
       "(3, 2)"
      ]
     },
     "execution_count": 8,
     "metadata": {},
     "output_type": "execute_result"
    }
   ],
   "source": [
    "l = np.array([[2,3],[3,5],[4,9]])\n",
    "l.shape"
   ]
  },
  {
   "cell_type": "code",
   "execution_count": 9,
   "metadata": {},
   "outputs": [
    {
     "data": {
      "text/plain": [
       "array([3, 5])"
      ]
     },
     "execution_count": 9,
     "metadata": {},
     "output_type": "execute_result"
    }
   ],
   "source": [
    "sum(l[1:2])"
   ]
  },
  {
   "cell_type": "code",
   "execution_count": 10,
   "metadata": {},
   "outputs": [
    {
     "data": {
      "text/plain": [
       "(256, 21)"
      ]
     },
     "execution_count": 10,
     "metadata": {},
     "output_type": "execute_result"
    }
   ],
   "source": [
    "np.fft.fft(df).shape"
   ]
  }
 ],
 "metadata": {
  "kernelspec": {
   "display_name": "Python 3",
   "language": "python",
   "name": "python3"
  },
  "language_info": {
   "codemirror_mode": {
    "name": "ipython",
    "version": 3
   },
   "file_extension": ".py",
   "mimetype": "text/x-python",
   "name": "python",
   "nbconvert_exporter": "python",
   "pygments_lexer": "ipython3",
   "version": "3.6.9"
  }
 },
 "nbformat": 4,
 "nbformat_minor": 4
}
