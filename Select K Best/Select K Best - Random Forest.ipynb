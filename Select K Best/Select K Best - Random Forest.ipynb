{
 "cells": [
  {
   "cell_type": "code",
   "execution_count": 1,
   "metadata": {},
   "outputs": [],
   "source": [
    "import pandas as pd\n",
    "from sklearn.model_selection import train_test_split\n",
    "from sklearn.feature_selection import SelectKBest\n",
    "from sklearn.feature_selection import chi2, f_classif, mutual_info_classif\n",
    "from sklearn import preprocessing as pre\n",
    "from sklearn.model_selection import GridSearchCV\n",
    "from sklearn.ensemble import RandomForestClassifier"
   ]
  },
  {
   "cell_type": "code",
   "execution_count": 2,
   "metadata": {},
   "outputs": [],
   "source": [
    "def dataset():\n",
    "    data = pd.read_csv('final-dataset.csv')\n",
    "    X = data.drop(columns=['Signal','Label','Hurst Component'])\n",
    "    y = data['Label']\n",
    "    feature_names = X.columns\n",
    "    return X, y, feature_names"
   ]
  },
  {
   "cell_type": "code",
   "execution_count": 3,
   "metadata": {},
   "outputs": [],
   "source": [
    "parameters = {'criterion':('gini', 'entropy'), 'class_weight':('balanced', 'balanced_subsample'), 'max_features':('auto', 'sqrt','log2')}"
   ]
  },
  {
   "cell_type": "code",
   "execution_count": 4,
   "metadata": {},
   "outputs": [],
   "source": [
    "def get_feature_names(selector, feature_names):\n",
    "    mask = selector.get_support() #list of booleans\n",
    "    new_features = [] # The list of your K best features\n",
    "    for bool, feature in zip(mask, feature_names):\n",
    "        if bool:\n",
    "            new_features.append(feature)\n",
    "    return new_features"
   ]
  },
  {
   "cell_type": "code",
   "execution_count": 5,
   "metadata": {},
   "outputs": [],
   "source": [
    "def feature_scaling_min_max(X):\n",
    "    min_max_scaler = pre.MinMaxScaler()\n",
    "    X = min_max_scaler.fit_transform(X)\n",
    "    return X"
   ]
  },
  {
   "cell_type": "code",
   "execution_count": 6,
   "metadata": {},
   "outputs": [],
   "source": [
    "def feature_scaling_basic(X):\n",
    "    return pre.scale(X)"
   ]
  },
  {
   "cell_type": "code",
   "execution_count": 7,
   "metadata": {},
   "outputs": [],
   "source": [
    "from sklearn.metrics import confusion_matrix\n",
    "def performance_measures(x_test, y_test):\n",
    "    y_true = y_test\n",
    "    y_pred = clf.predict(x_test)\n",
    "    tn, fp, fn, tp = confusion_matrix(y_true, y_pred).ravel()\n",
    "    specificity = tn / (tn+fp)\n",
    "    sensitivity = tp / (tp + fn)\n",
    "    return sensitivity, specificity"
   ]
  },
  {
   "cell_type": "code",
   "execution_count": 8,
   "metadata": {},
   "outputs": [
    {
     "name": "stdout",
     "output_type": "stream",
     "text": [
      "Passed  2\n",
      "Passed  3\n",
      "Passed  4\n",
      "Passed  5\n",
      "Passed  6\n",
      "Passed  7\n",
      "Passed  8\n",
      "Passed  9\n",
      "Test Score is  0.8952380952380953\n",
      "Best params are  {'class_weight': 'balanced', 'criterion': 'entropy', 'max_features': 'log2'}\n",
      "Best k is  8\n",
      "names are  ['Zero Crossings', 'Frequency (Hz)', 'Delta (µV² /Hz)', 'Alpha (µV² /Hz)', 'Beta (µV² /Hz)', 'Gamma (µV² /Hz)', 'Skewness', 'Hjorth Mobility']\n",
      "Val score is  0.9047619047619048\n",
      "Sensitivity  0.8942307692307693\n",
      "Specificity  0.8867924528301887\n"
     ]
    }
   ],
   "source": [
    "max_score = 0\n",
    "best_params = {}\n",
    "best_k = 2\n",
    "best_val_score = 0\n",
    "selected_names = []\n",
    "best_sensitivity = 0\n",
    "best_specificity = 0\n",
    "\n",
    "for k in range(2,10):\n",
    "    X, y, feature_names = dataset()\n",
    "    X = feature_scaling_min_max(X)\n",
    "    selector = SelectKBest(chi2, k=k)\n",
    "    X_new = selector.fit_transform(X, y)\n",
    "    X_train, X_test, y_train, y_test = train_test_split(X_new, y, test_size=0.3, random_state=0)\n",
    "    x_val, x_test, y_val, y_test = train_test_split(X_test, y_test, test_size=0.5, random_state=0)\n",
    "    clf = RandomForestClassifier(random_state=0)\n",
    "    clf = GridSearchCV(clf, parameters)\n",
    "    clf.fit(X_train, y_train)\n",
    "    names = get_feature_names(selector, feature_names)\n",
    "    val_score = clf.score(x_val, y_val)\n",
    "    score = clf.score(x_test, y_test)\n",
    "    sensitivity, specificity = performance_measures(x_test, y_test)\n",
    "    if(score > max_score):\n",
    "        max_score = score\n",
    "        best_k = k\n",
    "        best_params = clf.best_params_\n",
    "        best_val_score = val_score\n",
    "        selected_names = names\n",
    "        best_sensitivity = sensitivity\n",
    "        best_specificity = specificity\n",
    "    print(\"Passed \", k)\n",
    "\n",
    "print(\"Test Score is \", max_score)\n",
    "print(\"Best params are \", best_params)\n",
    "print(\"Best k is \", best_k)\n",
    "print(\"names are \", selected_names)\n",
    "print(\"Val score is \", best_val_score)\n",
    "print(\"Sensitivity \", sensitivity)\n",
    "print(\"Specificity \", specificity)"
   ]
  },
  {
   "cell_type": "code",
   "execution_count": 9,
   "metadata": {},
   "outputs": [
    {
     "name": "stdout",
     "output_type": "stream",
     "text": [
      "Passed  2\n",
      "Passed  3\n",
      "Passed  4\n",
      "Passed  5\n",
      "Passed  6\n",
      "Passed  7\n",
      "Passed  8\n",
      "Passed  9\n",
      "Test Score is  0.9\n",
      "Best params are  {'class_weight': 'balanced_subsample', 'criterion': 'entropy', 'max_features': 'log2'}\n",
      "Best k is  8\n",
      "Val score is  0.8952380952380953\n",
      "Names are  ['Zero Crossings', 'Frequency (Hz)', 'Alpha (µV² /Hz)', 'Beta (µV² /Hz)', 'Gamma (µV² /Hz)', 'Skewness', 'Hjorth Mobility', 'Spectral Entropy']\n",
      "Sensitivity  0.8942307692307693\n",
      "Specificity  0.8867924528301887\n"
     ]
    }
   ],
   "source": [
    "max_score = 0\n",
    "best_params = {}\n",
    "best_k = 2\n",
    "best_val_score = 0\n",
    "selected_names = []\n",
    "\n",
    "for k in range(2,10):\n",
    "    X, y, feature_names = dataset()\n",
    "    X = feature_scaling_min_max(X)\n",
    "    selector = SelectKBest(f_classif, k=k)\n",
    "    X_new = selector.fit_transform(X, y)\n",
    "    X_train, X_test, y_train, y_test = train_test_split(X_new, y, test_size=0.3, random_state=0)\n",
    "    x_val, x_test, y_val, y_test = train_test_split(X_test, y_test, test_size=0.5, random_state=0)\n",
    "    clf = RandomForestClassifier(random_state=0)\n",
    "    clf = GridSearchCV(clf, parameters)\n",
    "    clf.fit(X_train, y_train)\n",
    "    val_score = clf.score(x_val, y_val)\n",
    "    names = get_feature_names(selector, feature_names)\n",
    "    score = clf.score(x_test, y_test)\n",
    "    sensitivity, specificity = performance_measures(x_test, y_test)\n",
    "    if(score > max_score):\n",
    "        max_score = score\n",
    "        best_k = k\n",
    "        best_params = clf.best_params_\n",
    "        best_val_score = val_score\n",
    "        selected_names = names\n",
    "        best_sensitivity = sensitivity\n",
    "        best_specificity = specificity\n",
    "    print(\"Passed \", k)\n",
    "\n",
    "print(\"Test Score is \", max_score)\n",
    "print(\"Best params are \", best_params)\n",
    "print(\"Best k is \", best_k)\n",
    "print(\"Val score is \", best_val_score)\n",
    "print(\"Names are \", selected_names)\n",
    "print(\"Sensitivity \", sensitivity)\n",
    "print(\"Specificity \", specificity)"
   ]
  },
  {
   "cell_type": "code",
   "execution_count": 10,
   "metadata": {},
   "outputs": [
    {
     "name": "stdout",
     "output_type": "stream",
     "text": [
      "Passed  2\n",
      "Passed  3\n",
      "Passed  4\n",
      "Passed  5\n",
      "Passed  6\n",
      "Passed  7\n",
      "Passed  8\n",
      "Passed  9\n",
      "Test Score is  0.9333333333333333\n",
      "Best params are  {'class_weight': 'balanced', 'criterion': 'entropy', 'max_features': 'auto'}\n",
      "Best k is  6\n",
      "Val score is  0.9238095238095239\n",
      "names are  ['Zero Crossings', 'Theta (µV² /Hz)', 'Alpha (µV² /Hz)', 'Beta (µV² /Hz)', 'Gamma (µV² /Hz)', 'Variance']\n",
      "Sensitivity  0.8942307692307693\n",
      "Specificity  0.9056603773584906\n"
     ]
    }
   ],
   "source": [
    "max_score = 0\n",
    "best_params = {}\n",
    "best_k = 2\n",
    "best_val_score = 0\n",
    "selected_names = []\n",
    "\n",
    "for k in range(2,10):\n",
    "    X, y, feature_names = dataset()\n",
    "    X = feature_scaling_min_max(X)\n",
    "    selector = SelectKBest(mutual_info_classif, k=k)\n",
    "    X_new = selector.fit_transform(X, y)\n",
    "    X_train, X_test, y_train, y_test = train_test_split(X_new, y, test_size=0.3, random_state=0)\n",
    "    x_val, x_test, y_val, y_test = train_test_split(X_test, y_test, test_size=0.5, random_state=0)\n",
    "    clf = RandomForestClassifier(random_state=0)\n",
    "    clf = GridSearchCV(clf, parameters)\n",
    "    clf.fit(X_train, y_train)\n",
    "    val_score = clf.score(x_val, y_val)\n",
    "    names = get_feature_names(selector, feature_names)\n",
    "    score = clf.score(x_test, y_test)\n",
    "    sensitivity, specificity = performance_measures(x_test, y_test)\n",
    "    if(score > max_score):\n",
    "        max_score = score\n",
    "        best_k = k\n",
    "        best_params = clf.best_params_\n",
    "        best_val_score = val_score\n",
    "        selected_names = names\n",
    "        best_sensitivity = sensitivity\n",
    "        best_specificity = specificity\n",
    "    print(\"Passed \", k)\n",
    "\n",
    "print(\"Test Score is \", max_score)\n",
    "print(\"Best params are \", best_params)\n",
    "print(\"Best k is \", best_k)\n",
    "print(\"Val score is \", best_val_score)\n",
    "print(\"names are \", selected_names)\n",
    "print(\"Sensitivity \", sensitivity)\n",
    "print(\"Specificity \", specificity)"
   ]
  },
  {
   "cell_type": "code",
   "execution_count": 12,
   "metadata": {},
   "outputs": [
    {
     "data": {
      "image/png": "[encoded data removed]",
      "text/plain": [
       "<Figure size 432x288 with 1 Axes>"
      ]
     },
     "metadata": {
      "needs_background": "light"
     },
     "output_type": "display_data"
    }
   ],
   "source": [
    "import matplotlib.pyplot as plt  \n",
    "from sklearn import datasets, metrics, model_selection, svm\n",
    "\n",
    "X, y, feature_names = dataset()\n",
    "X = feature_scaling_min_max(X)\n",
    "selector = SelectKBest(chi2, k=8)\n",
    "X_new = selector.fit_transform(X, y)\n",
    "X_train, X_test, y_train, y_test = train_test_split(X_new, y, test_size=0.3, random_state=0)\n",
    "x_val, x_test, y_val, y_test = train_test_split(X_test, y_test, test_size=0.5, random_state=0)\n",
    "clf = RandomForestClassifier(random_state=0)\n",
    "clf = GridSearchCV(clf, parameters)\n",
    "clf.fit(X_train, y_train)\n",
    "metrics.plot_roc_curve(clf, x_test, y_test) \n",
    "plt.title(\"ROC Curve for Random Forest Classifier with Chi Square based Feature Selection\")\n",
    "plt.show()  "
   ]
  },
  {
   "cell_type": "code",
   "execution_count": 15,
   "metadata": {},
   "outputs": [
    {
     "data": {
      "image/png": "[encoded data removed]",
      "text/plain": [
       "<Figure size 432x288 with 1 Axes>"
      ]
     },
     "metadata": {
      "needs_background": "light"
     },
     "output_type": "display_data"
    }
   ],
   "source": [
    "import matplotlib.pyplot as plt  \n",
    "from sklearn import datasets, metrics, model_selection, svm\n",
    "\n",
    "X, y, feature_names = dataset()\n",
    "X = feature_scaling_min_max(X)\n",
    "selector = SelectKBest(f_classif, k=8)\n",
    "X_new = selector.fit_transform(X, y)\n",
    "X_train, X_test, y_train, y_test = train_test_split(X_new, y, test_size=0.3, random_state=0)\n",
    "x_val, x_test, y_val, y_test = train_test_split(X_test, y_test, test_size=0.5, random_state=0)\n",
    "clf = RandomForestClassifier(random_state=0)\n",
    "clf = GridSearchCV(clf, parameters)\n",
    "clf.fit(X_train, y_train)\n",
    "metrics.plot_roc_curve(clf, x_test, y_test) \n",
    "plt.title(\"ROC Curve for Random Forest Classifier with ANOVA based Feature Selection\")\n",
    "plt.show()  "
   ]
  },
  {
   "cell_type": "code",
   "execution_count": 14,
   "metadata": {},
   "outputs": [
    {
     "data": {
      "image/png": "[encoded data removed]",
      "text/plain": [
       "<Figure size 432x288 with 1 Axes>"
      ]
     },
     "metadata": {
      "needs_background": "light"
     },
     "output_type": "display_data"
    }
   ],
   "source": [
    "import matplotlib.pyplot as plt  \n",
    "from sklearn import datasets, metrics, model_selection, svm\n",
    "\n",
    "X, y, feature_names = dataset()\n",
    "X = feature_scaling_min_max(X)\n",
    "selector = SelectKBest(mutual_info_classif, k=6)\n",
    "X_new = selector.fit_transform(X, y)\n",
    "X_train, X_test, y_train, y_test = train_test_split(X_new, y, test_size=0.3, random_state=0)\n",
    "x_val, x_test, y_val, y_test = train_test_split(X_test, y_test, test_size=0.5, random_state=0)\n",
    "clf = RandomForestClassifier(random_state=0)\n",
    "clf = GridSearchCV(clf, parameters)\n",
    "clf.fit(X_train, y_train)\n",
    "metrics.plot_roc_curve(clf, x_test, y_test) \n",
    "plt.title(\"ROC Curve for Random Forest Classifier with MI based Feature Selection\")\n",
    "plt.show()  "
   ]
  },
  {
   "cell_type": "code",
   "execution_count": 20,
   "metadata": {},
   "outputs": [
    {
     "data": {
      "image/png": "[encoded data removed]",
      "text/plain": [
       "<Figure size 432x288 with 1 Axes>"
      ]
     },
     "metadata": {
      "needs_background": "light"
     },
     "output_type": "display_data"
    }
   ],
   "source": [
    "# roc curve and auc\n",
    "from sklearn.metrics import roc_curve\n",
    "from sklearn.metrics import roc_auc_score\n",
    "from matplotlib import pyplot\n",
    "# generate 2 class dataset\n",
    "X, y, feature_names = dataset()\n",
    "X = feature_scaling_min_max(X)\n",
    "selector = SelectKBest(mutual_info_classif, k=6)\n",
    "X_new = selector.fit_transform(X, y)\n",
    "# split into train/test sets\n",
    "X_train, X_test, y_train, y_test = train_test_split(X_new, y, test_size=0.3, random_state=0)\n",
    "x_val, x_test, y_val, y_test = train_test_split(X_test, y_test, test_size=0.5, random_state=0)\n",
    "# generate a no skill prediction (majority class)\n",
    "ns_probs = [0 for _ in range(len(y_test))]\n",
    "# fit a model\n",
    "clf = RandomForestClassifier(random_state=0)\n",
    "clf = GridSearchCV(clf, parameters)\n",
    "clf.fit(X_train, y_train)\n",
    "# predict probabilities\n",
    "lr_probs1 = clf.predict_proba(x_test)\n",
    "lr_probs2 = clf.predict_proba(x_val)\n",
    "# keep probabilities for the positive outcome only\n",
    "lr_probs1 = lr_probs1[:, 1]\n",
    "lr_probs2 = lr_probs2[:, 1]\n",
    "# calculate scores\n",
    "ns_auc = roc_auc_score(y_test, ns_probs)\n",
    "lr1_auc = roc_auc_score(y_test, lr_probs1)\n",
    "lr2_auc = roc_auc_score(y_val, lr_probs2)\n",
    "# summarize scores\n",
    "# print('No Skill: ROC AUC=%.3f' % (ns_auc))\n",
    "# print('Logistic: ROC AUC=%.3f' % (lr1_auc))\n",
    "# calculate roc curves\n",
    "ns_fpr, ns_tpr, _ = roc_curve(y_test, ns_probs)\n",
    "lr_fpr, lr_tpr, _ = roc_curve(y_test, lr_probs1)\n",
    "lr_fpr2, lr_tpr2, _ = roc_curve(y_val, lr_probs2)\n",
    "# plot the roc curve for the model\n",
    "# pyplot.plot(ns_fpr, ns_tpr, linestyle='--', label='No Skill')\n",
    "pyplot.plot(lr_fpr, lr_tpr, marker='.', label='Random Forest with MI - Testing')\n",
    "pyplot.plot(lr_fpr2, lr_tpr2, marker='*', label='Random Forest with MI - Validation')\n",
    "# axis labels\n",
    "pyplot.xlabel('False Positive Rate')\n",
    "pyplot.ylabel('True Positive Rate')\n",
    "# show the legend\n",
    "pyplot.legend()\n",
    "# show the plot\n",
    "pyplot.show()"
   ]
  }
 ],
 "metadata": {
  "kernelspec": {
   "display_name": "Python 3",
   "language": "python",
   "name": "python3"
  },
  "language_info": {
   "codemirror_mode": {
    "name": "ipython",
    "version": 3
   },
   "file_extension": ".py",
   "mimetype": "text/x-python",
   "name": "python",
   "nbconvert_exporter": "python",
   "pygments_lexer": "ipython3",
   "version": "3.6.6"
  }
 },
 "nbformat": 4,
 "nbformat_minor": 4
}
