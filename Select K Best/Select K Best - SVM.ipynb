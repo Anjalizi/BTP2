{
 "cells": [
  {
   "cell_type": "code",
   "execution_count": 1,
   "metadata": {},
   "outputs": [],
   "source": [
    "import pandas as pd\n",
    "from sklearn.model_selection import train_test_split\n",
    "from sklearn.feature_selection import SelectKBest\n",
    "from sklearn.feature_selection import chi2, f_classif, mutual_info_classif\n",
    "from sklearn import preprocessing as pre\n",
    "from sklearn.model_selection import GridSearchCV\n",
    "from sklearn.svm import SVC"
   ]
  },
  {
   "cell_type": "code",
   "execution_count": 2,
   "metadata": {},
   "outputs": [],
   "source": [
    "def dataset():\n",
    "    data = pd.read_csv('final-dataset.csv')\n",
    "    X = data.drop(columns=['Signal','Label','Hurst Component'])\n",
    "    y = data['Label']\n",
    "    feature_names = X.columns\n",
    "    return X, y, feature_names"
   ]
  },
  {
   "cell_type": "code",
   "execution_count": 3,
   "metadata": {},
   "outputs": [],
   "source": [
    "def get_feature_names(selector, feature_names):\n",
    "    mask = selector.get_support() #list of booleans\n",
    "    new_features = [] # The list of your K best features\n",
    "    for bool, feature in zip(mask, feature_names):\n",
    "        if bool:\n",
    "            new_features.append(feature)\n",
    "    return new_features"
   ]
  },
  {
   "cell_type": "code",
   "execution_count": 4,
   "metadata": {},
   "outputs": [],
   "source": [
    "from sklearn.metrics import confusion_matrix\n",
    "def performance_measures(x_test, y_test):\n",
    "    y_true = y_test\n",
    "    y_pred = clf.predict(x_test)\n",
    "    tn, fp, fn, tp = confusion_matrix(y_true, y_pred).ravel()\n",
    "    specificity = tn / (tn+fp)\n",
    "    sensitivity = tp / (tp + fn)\n",
    "    return sensitivity, specificity"
   ]
  },
  {
   "cell_type": "code",
   "execution_count": 5,
   "metadata": {},
   "outputs": [],
   "source": [
    "parameters = {'C':range(1,10), 'kernel':('linear', 'poly', 'rbf', 'sigmoid'),'degree':range(2,5),'gamma':('scale','auto')}"
   ]
  },
  {
   "cell_type": "code",
   "execution_count": 6,
   "metadata": {},
   "outputs": [],
   "source": [
    "def feature_scaling_min_max(X):\n",
    "    min_max_scaler = pre.MinMaxScaler()\n",
    "    X = min_max_scaler.fit_transform(X)\n",
    "    return X"
   ]
  },
  {
   "cell_type": "code",
   "execution_count": 7,
   "metadata": {},
   "outputs": [],
   "source": [
    "def feature_scaling_basic(X):\n",
    "    return pre.scale(X)"
   ]
  },
  {
   "cell_type": "code",
   "execution_count": 8,
   "metadata": {},
   "outputs": [
    {
     "name": "stdout",
     "output_type": "stream",
     "text": [
      "passed  2 steps\n",
      "passed  3 steps\n",
      "passed  4 steps\n",
      "passed  5 steps\n",
      "passed  6 steps\n",
      "passed  7 steps\n",
      "passed  8 steps\n",
      "passed  9 steps\n",
      "Test Score is  0.6857142857142857\n",
      "Best params are  {'C': 5, 'degree': 2, 'gamma': 'scale', 'kernel': 'rbf'}\n",
      "Best k is  9\n",
      "Val score is  0.6428571428571429\n",
      "Sensitivity  0.7403846153846154\n",
      "Specificity  0.6320754716981132\n",
      "names are  ['Zero Crossings', 'Frequency (Hz)', 'Delta (µV² /Hz)', 'Alpha (µV² /Hz)', 'Beta (µV² /Hz)', 'Gamma (µV² /Hz)', 'Skewness', 'Hjorth Mobility', 'Spectral Entropy']\n"
     ]
    }
   ],
   "source": [
    "max_score = 0\n",
    "best_params = {}\n",
    "best_k = 2\n",
    "best_sensitivity = 0\n",
    "best_specificity = 0\n",
    "selected_names = []\n",
    "best_val_score = 0\n",
    "\n",
    "for k in range(2,10):\n",
    "    print(\"passed \", k, \"steps\")\n",
    "    X, y, feature_names = dataset()\n",
    "    X = feature_scaling_min_max(X)\n",
    "    selector = SelectKBest(chi2, k=k)\n",
    "    X_new = selector.fit_transform(X, y)\n",
    "    X_train, X_test, y_train, y_test = train_test_split(X_new, y, test_size=0.3, random_state=0)\n",
    "    x_val, x_test, y_val, y_test = train_test_split(X_test, y_test, test_size=0.5, random_state=0)\n",
    "    clf = SVC(random_state=0)\n",
    "    clf = GridSearchCV(clf, parameters)\n",
    "    clf.fit(X_train, y_train)\n",
    "    val_score = clf.score(x_val, y_val)\n",
    "    names = get_feature_names(selector, feature_names)\n",
    "    sensitivity, specificity = performance_measures(x_test, y_test)\n",
    "    score = clf.score(x_test, y_test)\n",
    "    if(score > max_score):\n",
    "        max_score = score\n",
    "        best_k = k\n",
    "        best_params = clf.best_params_\n",
    "        best_val_score = val_score\n",
    "        selected_names = names\n",
    "        best_sensitivity = sensitivity\n",
    "        best_specificity = specificity\n",
    "\n",
    "print(\"Test Score is \", max_score)\n",
    "print(\"Best params are \", best_params)\n",
    "print(\"Best k is \", best_k)\n",
    "print(\"Val score is \", best_val_score)\n",
    "print(\"Sensitivity \", sensitivity)\n",
    "print(\"Specificity \", specificity)\n",
    "print(\"names are \", selected_names)"
   ]
  },
  {
   "cell_type": "code",
   "execution_count": 9,
   "metadata": {},
   "outputs": [
    {
     "name": "stdout",
     "output_type": "stream",
     "text": [
      "Passed  2  steps\n",
      "Passed  3  steps\n",
      "Passed  4  steps\n",
      "Passed  5  steps\n",
      "Passed  6  steps\n",
      "Passed  7  steps\n",
      "Passed  8  steps\n",
      "Passed  9  steps\n",
      "Test Score is  0.719047619047619\n",
      "Best params are  {'C': 8, 'degree': 2, 'gamma': 'scale', 'kernel': 'rbf'}\n",
      "Best k is  7\n",
      "Sensitivity  0.7403846153846154\n",
      "Specificity  0.6320754716981132\n",
      "names are  ['Zero Crossings', 'Frequency (Hz)', 'Beta (µV² /Hz)', 'Gamma (µV² /Hz)', 'Skewness', 'Hjorth Mobility', 'Spectral Entropy']\n",
      "Val score is  0.6476190476190476\n"
     ]
    }
   ],
   "source": [
    "max_score = 0\n",
    "best_params = {}\n",
    "best_k = 2\n",
    "best_val_score = 0\n",
    "\n",
    "for k in range(2,10):\n",
    "    X, y, feature_names = dataset()\n",
    "    X = feature_scaling_min_max(X)\n",
    "    selector = SelectKBest(f_classif, k=k)\n",
    "    X_new = selector.fit_transform(X, y)\n",
    "    X_train, X_test, y_train, y_test = train_test_split(X_new, y, test_size=0.3, random_state=0)\n",
    "    x_val, x_test, y_val, y_test = train_test_split(X_test, y_test, test_size=0.5, random_state=0)\n",
    "    clf = SVC(random_state=0)\n",
    "    clf = GridSearchCV(clf, parameters)\n",
    "    clf.fit(X_train, y_train)\n",
    "    val_score = clf.score(x_val, y_val)\n",
    "    names = get_feature_names(selector, feature_names)\n",
    "    sensitivity, specificity = performance_measures(x_test, y_test)\n",
    "    score = clf.score(x_test, y_test)\n",
    "    if(score > max_score):\n",
    "        max_score = score\n",
    "        best_k = k\n",
    "        best_params = clf.best_params_\n",
    "        selected_names = names\n",
    "        best_sensitivity = sensitivity\n",
    "        best_specificity = specificity\n",
    "        best_val_score = val_score\n",
    "    print(\"Passed \", k, \" steps\")\n",
    "\n",
    "print(\"Test Score is \", max_score)\n",
    "print(\"Best params are \", best_params)\n",
    "print(\"Best k is \", best_k)\n",
    "print(\"Sensitivity \", sensitivity)\n",
    "print(\"Specificity \", specificity)\n",
    "print(\"names are \", selected_names)\n",
    "print(\"Val score is \", best_val_score)"
   ]
  },
  {
   "cell_type": "code",
   "execution_count": 10,
   "metadata": {},
   "outputs": [
    {
     "name": "stdout",
     "output_type": "stream",
     "text": [
      "Passed  2  steps\n",
      "Passed  3  steps\n",
      "Passed  4  steps\n",
      "Passed  5  steps\n",
      "Passed  6  steps\n",
      "Passed  7  steps\n",
      "Passed  8  steps\n",
      "Passed  9  steps\n",
      "Test Score is  0.638095238095238\n",
      "Best params are  {'C': 8, 'degree': 2, 'gamma': 'scale', 'kernel': 'rbf'}\n",
      "Best k is  6\n",
      "Val score is  0.6523809523809524\n",
      "Sensitivity  0.7115384615384616\n",
      "Specificity  0.44339622641509435\n",
      "names are  ['RMS (µV)', 'Theta (µV² /Hz)', 'Alpha (µV² /Hz)', 'Beta (µV² /Hz)', 'Gamma (µV² /Hz)', 'Variance']\n"
     ]
    }
   ],
   "source": [
    "max_score = 0\n",
    "best_params = {}\n",
    "best_k = 2\n",
    "best_val_score = 0\n",
    "\n",
    "for k in range(2,10):\n",
    "    X, y, feature_names = dataset()\n",
    "    X = feature_scaling_min_max(X)\n",
    "    selector = SelectKBest(mutual_info_classif, k=k)\n",
    "    X_new = selector.fit_transform(X, y)\n",
    "    X_train, X_test, y_train, y_test = train_test_split(X_new, y, test_size=0.3, random_state=0)\n",
    "    x_val, x_test, y_val, y_test = train_test_split(X_test, y_test, test_size=0.5, random_state=0)\n",
    "    clf = SVC(random_state=0)\n",
    "    clf = GridSearchCV(clf, parameters)\n",
    "    clf.fit(X_train, y_train)\n",
    "    names = get_feature_names(selector, feature_names)\n",
    "    sensitivity, specificity = performance_measures(x_test, y_test)\n",
    "    val_score = clf.score(x_val, y_val)\n",
    "    score = clf.score(x_test, y_test)\n",
    "    if(score > max_score):\n",
    "        max_score = score\n",
    "        best_k = k\n",
    "        best_params = clf.best_params_\n",
    "        best_val_score = val_score\n",
    "        selected_names = names\n",
    "        best_sensitivity = sensitivity\n",
    "        best_specificity = specificity\n",
    "    print(\"Passed \", k, \" steps\")\n",
    "\n",
    "print(\"Test Score is \", max_score)\n",
    "print(\"Best params are \", best_params)\n",
    "print(\"Best k is \", best_k)\n",
    "print(\"Val score is \", best_val_score)\n",
    "print(\"Sensitivity \", sensitivity)\n",
    "print(\"Specificity \", specificity)\n",
    "print(\"names are \", selected_names)"
   ]
  },
  {
   "cell_type": "code",
   "execution_count": 8,
   "metadata": {},
   "outputs": [
    {
     "data": {
      "image/png": "[encoded data removed]",
      "text/plain": [
       "<Figure size 432x288 with 1 Axes>"
      ]
     },
     "metadata": {
      "needs_background": "light"
     },
     "output_type": "display_data"
    }
   ],
   "source": [
    "import matplotlib.pyplot as plt  \n",
    "from sklearn import datasets, metrics, model_selection, svm\n",
    "\n",
    "X, y, feature_names = dataset()\n",
    "X = feature_scaling_min_max(X)\n",
    "selector = SelectKBest(chi2, k=9)\n",
    "X_new = selector.fit_transform(X, y)\n",
    "X_train, X_test, y_train, y_test = train_test_split(X_new, y, test_size=0.3, random_state=0)\n",
    "x_val, x_test, y_val, y_test = train_test_split(X_test, y_test, test_size=0.5, random_state=0)\n",
    "clf = SVC(random_state=0)\n",
    "clf = GridSearchCV(clf, parameters)\n",
    "clf.fit(X_train, y_train)\n",
    "metrics.plot_roc_curve(clf, x_test, y_test) \n",
    "plt.title(\"ROC Curve for SVM Classifier with Chi Squared based Feature Selection\")\n",
    "plt.show()  "
   ]
  },
  {
   "cell_type": "code",
   "execution_count": 9,
   "metadata": {},
   "outputs": [
    {
     "data": {
      "image/png": "[encoded data removed]",
      "text/plain": [
       "<Figure size 432x288 with 1 Axes>"
      ]
     },
     "metadata": {
      "needs_background": "light"
     },
     "output_type": "display_data"
    }
   ],
   "source": [
    "import matplotlib.pyplot as plt  \n",
    "from sklearn import datasets, metrics, model_selection, svm\n",
    "\n",
    "X, y, feature_names = dataset()\n",
    "X = feature_scaling_min_max(X)\n",
    "selector = SelectKBest(f_classif, k=7)\n",
    "X_new = selector.fit_transform(X, y)\n",
    "X_train, X_test, y_train, y_test = train_test_split(X_new, y, test_size=0.3, random_state=0)\n",
    "x_val, x_test, y_val, y_test = train_test_split(X_test, y_test, test_size=0.5, random_state=0)\n",
    "clf = SVC(random_state=0)\n",
    "clf = GridSearchCV(clf, parameters)\n",
    "clf.fit(X_train, y_train)\n",
    "metrics.plot_roc_curve(clf, x_test, y_test) \n",
    "plt.title(\"ROC Curve for SVM Classifier with ANOVA based Feature Selection\")\n",
    "plt.show()  "
   ]
  },
  {
   "cell_type": "code",
   "execution_count": 11,
   "metadata": {},
   "outputs": [
    {
     "data": {
      "image/png": "[encoded data removed]",
      "text/plain": [
       "<Figure size 432x288 with 1 Axes>"
      ]
     },
     "metadata": {
      "needs_background": "light"
     },
     "output_type": "display_data"
    }
   ],
   "source": [
    "import matplotlib.pyplot as plt  \n",
    "from sklearn import datasets, metrics, model_selection, svm\n",
    "\n",
    "X, y, feature_names = dataset()\n",
    "X = feature_scaling_min_max(X)\n",
    "selector = SelectKBest(mutual_info_classif, k=6)\n",
    "X_new = selector.fit_transform(X, y)\n",
    "X_train, X_test, y_train, y_test = train_test_split(X_new, y, test_size=0.3, random_state=0)\n",
    "x_val, x_test, y_val, y_test = train_test_split(X_test, y_test, test_size=0.5, random_state=0)\n",
    "clf = SVC(random_state=0)\n",
    "clf = GridSearchCV(clf, parameters)\n",
    "clf.fit(X_train, y_train)\n",
    "metrics.plot_roc_curve(clf, x_test, y_test) \n",
    "plt.title(\"ROC Curve for SVM Classifier with MI based Feature Selection\")\n",
    "plt.show()  "
   ]
  }
 ],
 "metadata": {
  "kernelspec": {
   "display_name": "Python 3",
   "language": "python",
   "name": "python3"
  },
  "language_info": {
   "codemirror_mode": {
    "name": "ipython",
    "version": 3
   },
   "file_extension": ".py",
   "mimetype": "text/x-python",
   "name": "python",
   "nbconvert_exporter": "python",
   "pygments_lexer": "ipython3",
   "version": "3.6.6"
  }
 },
 "nbformat": 4,
 "nbformat_minor": 4
}
