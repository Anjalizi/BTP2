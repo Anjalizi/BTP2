{
 "cells": [
  {
   "cell_type": "code",
   "execution_count": 1,
   "metadata": {},
   "outputs": [],
   "source": [
    "import pandas as pd\n",
    "from sklearn.model_selection import train_test_split\n",
    "from sklearn.feature_selection import SelectKBest\n",
    "from sklearn.feature_selection import chi2, f_classif, mutual_info_classif\n",
    "from sklearn import preprocessing as pre\n",
    "from sklearn.model_selection import GridSearchCV\n",
    "from sklearn.neighbors import KNeighborsClassifier"
   ]
  },
  {
   "cell_type": "code",
   "execution_count": 2,
   "metadata": {},
   "outputs": [],
   "source": [
    "def dataset():\n",
    "    data = pd.read_csv('final-dataset.csv')\n",
    "    X = data.drop(columns=['Signal','Label','Hurst Component'])\n",
    "    y = data['Label']\n",
    "    feature_names = X.columns\n",
    "    return X, y, feature_names"
   ]
  },
  {
   "cell_type": "code",
   "execution_count": 3,
   "metadata": {},
   "outputs": [],
   "source": [
    "def get_feature_names(selector, feature_names):\n",
    "    mask = selector.get_support() #list of booleans\n",
    "    new_features = [] # The list of your K best features\n",
    "    for bool, feature in zip(mask, feature_names):\n",
    "        if bool:\n",
    "            new_features.append(feature)\n",
    "    return new_features"
   ]
  },
  {
   "cell_type": "code",
   "execution_count": 4,
   "metadata": {},
   "outputs": [],
   "source": [
    "parameters = {'n_neighbors':range(2,25), 'weights':('uniform', 'distance'), 'algorithm':('auto', 'ball_tree', 'kd_tree', 'brute')}"
   ]
  },
  {
   "cell_type": "code",
   "execution_count": 5,
   "metadata": {},
   "outputs": [],
   "source": [
    "def feature_scaling_min_max(X):\n",
    "    min_max_scaler = pre.MinMaxScaler()\n",
    "    X = min_max_scaler.fit_transform(X)\n",
    "    return X"
   ]
  },
  {
   "cell_type": "code",
   "execution_count": 6,
   "metadata": {},
   "outputs": [],
   "source": [
    "def feature_scaling_basic(X):\n",
    "    return pre.scale(X)"
   ]
  },
  {
   "cell_type": "code",
   "execution_count": 7,
   "metadata": {},
   "outputs": [],
   "source": [
    "from sklearn.metrics import confusion_matrix\n",
    "def performance_measures(x_test, y_test):\n",
    "    y_true = y_test\n",
    "    y_pred = clf.predict(x_test)\n",
    "    tn, fp, fn, tp = confusion_matrix(y_true, y_pred).ravel()\n",
    "    specificity = tn / (tn+fp)\n",
    "    sensitivity = tp / (tp + fn)\n",
    "    return sensitivity, specificity"
   ]
  },
  {
   "cell_type": "code",
   "execution_count": 8,
   "metadata": {},
   "outputs": [
    {
     "name": "stdout",
     "output_type": "stream",
     "text": [
      "passed  2  steps\n",
      "passed  3  steps\n",
      "passed  4  steps\n",
      "passed  5  steps\n",
      "passed  6  steps\n",
      "passed  7  steps\n",
      "passed  8  steps\n",
      "passed  9  steps\n",
      "Test Score is  0.7\n",
      "Best params are  {'algorithm': 'auto', 'n_neighbors': 8, 'weights': 'distance'}\n",
      "Best k is  9\n",
      "Val score is  0.6952380952380952\n",
      "Sensitivity  0.75\n",
      "Specificity  0.6509433962264151\n",
      "names are  ['Zero Crossings', 'Frequency (Hz)', 'Delta (µV² /Hz)', 'Alpha (µV² /Hz)', 'Beta (µV² /Hz)', 'Gamma (µV² /Hz)', 'Skewness', 'Hjorth Mobility', 'Spectral Entropy']\n"
     ]
    }
   ],
   "source": [
    "max_score = 0\n",
    "best_params = {}\n",
    "best_k = 2\n",
    "best_val_score = 0\n",
    "best_sensitivity = 0\n",
    "best_specificity = 0\n",
    "selected_names = []\n",
    "\n",
    "for k in range(2,10):\n",
    "    X, y, feature_names = dataset()\n",
    "    X = feature_scaling_min_max(X)\n",
    "    selector = SelectKBest(chi2, k=k)\n",
    "    X_new = selector.fit_transform(X, y)\n",
    "    X_train, X_test, y_train, y_test = train_test_split(X_new, y, test_size=0.3, random_state=0)\n",
    "    x_val, x_test, y_val, y_test = train_test_split(X_test, y_test, test_size=0.5, random_state=0)\n",
    "    knn = KNeighborsClassifier()\n",
    "    clf = GridSearchCV(knn, parameters)\n",
    "    clf.fit(X_train, y_train)\n",
    "    val_score = clf.score(x_val, y_val)\n",
    "    names = get_feature_names(selector, feature_names)\n",
    "    sensitivity, specificity = performance_measures(x_test, y_test)\n",
    "    score = clf.score(x_test, y_test)\n",
    "    if(score > max_score):\n",
    "        max_score = score\n",
    "        best_k = k\n",
    "        best_params = clf.best_params_\n",
    "        best_val_score = val_score\n",
    "        selected_names = names\n",
    "        best_sensitivity = sensitivity\n",
    "        best_specificity = specificity\n",
    "    print(\"passed \", k, \" steps\")\n",
    "\n",
    "print(\"Test Score is \", max_score)\n",
    "print(\"Best params are \", best_params)\n",
    "print(\"Best k is \", best_k)\n",
    "print(\"Val score is \", best_val_score)\n",
    "print(\"Sensitivity \", sensitivity)\n",
    "print(\"Specificity \", specificity)\n",
    "print(\"names are \", selected_names)"
   ]
  },
  {
   "cell_type": "code",
   "execution_count": 11,
   "metadata": {},
   "outputs": [
    {
     "name": "stdout",
     "output_type": "stream",
     "text": [
      "passed  2  steps\n",
      "passed  3  steps\n",
      "passed  4  steps\n",
      "passed  5  steps\n",
      "passed  6  steps\n",
      "passed  7  steps\n",
      "passed  8  steps\n",
      "passed  9  steps\n",
      "Test Score is  0.7\n",
      "Best params are  {'algorithm': 'auto', 'n_neighbors': 8, 'weights': 'distance'}\n",
      "Best k is  8\n",
      "Val score is  0.6952380952380952\n",
      "Sensitivity  0.75\n",
      "Specificity  0.6509433962264151\n",
      "names are  ['Zero Crossings', 'Frequency (Hz)', 'Alpha (µV² /Hz)', 'Beta (µV² /Hz)', 'Gamma (µV² /Hz)', 'Skewness', 'Hjorth Mobility', 'Spectral Entropy']\n"
     ]
    }
   ],
   "source": [
    "max_score = 0\n",
    "best_params = {}\n",
    "best_k = 2\n",
    "best_val_score = 0\n",
    "\n",
    "for k in range(2,10):\n",
    "    X, y, feature_names = dataset()\n",
    "    X = feature_scaling_min_max(X)\n",
    "    selector = SelectKBest(f_classif, k=k)\n",
    "    X_new = selector.fit_transform(X, y)\n",
    "    X_train, X_test, y_train, y_test = train_test_split(X_new, y, test_size=0.3, random_state=0)\n",
    "    x_val, x_test, y_val, y_test = train_test_split(X_test, y_test, test_size=0.5, random_state=0)\n",
    "    knn = KNeighborsClassifier()\n",
    "    clf = GridSearchCV(knn, parameters)\n",
    "    clf.fit(X_train, y_train)\n",
    "    val_score = clf.score(x_val, y_val)\n",
    "    names = get_feature_names(selector, feature_names)\n",
    "    sensitivity, specificity = performance_measures(x_test, y_test)\n",
    "    score = clf.score(x_test, y_test)\n",
    "    if(score > max_score):\n",
    "        max_score = score\n",
    "        best_k = k\n",
    "        best_params = clf.best_params_\n",
    "        best_val_score = val_score\n",
    "        selected_names = names\n",
    "        best_sensitivity = sensitivity\n",
    "        best_specificity = specificity\n",
    "    print(\"passed \", k, \" steps\")\n",
    "\n",
    "print(\"Test Score is \", max_score)\n",
    "print(\"Best params are \", best_params)\n",
    "print(\"Best k is \", best_k)\n",
    "print(\"Val score is \", best_val_score)\n",
    "print(\"Sensitivity \", sensitivity)\n",
    "print(\"Specificity \", specificity)\n",
    "print(\"names are \", selected_names)"
   ]
  },
  {
   "cell_type": "code",
   "execution_count": 10,
   "metadata": {},
   "outputs": [
    {
     "name": "stdout",
     "output_type": "stream",
     "text": [
      "passed  2  steps\n",
      "passed  3  steps\n",
      "passed  4  steps\n",
      "passed  5  steps\n",
      "passed  6  steps\n",
      "passed  7  steps\n",
      "passed  8  steps\n",
      "passed  9  steps\n",
      "Test Score is  0.9095238095238095\n",
      "Best params are  {'algorithm': 'auto', 'n_neighbors': 2, 'weights': 'distance'}\n",
      "Best k is  5\n",
      "Val score is  0.9523809523809523\n",
      "Sensitivity  0.7115384615384616\n",
      "Specificity  0.6226415094339622\n",
      "names are  ['Theta (µV² /Hz)', 'Alpha (µV² /Hz)', 'Beta (µV² /Hz)', 'Gamma (µV² /Hz)', 'Variance']\n",
      "Scores are  [0.07036502 0.05676415 0.11735896 0.13209838 0.11326418]\n"
     ]
    }
   ],
   "source": [
    "max_score = 0\n",
    "best_params = {}\n",
    "best_k = 2\n",
    "best_val_score = 0\n",
    "selected_names = []\n",
    "selected_scores = []\n",
    "\n",
    "for k in range(2,10):\n",
    "    X, y, feature_names = dataset()\n",
    "    X = feature_scaling_min_max(X)\n",
    "    selector = SelectKBest(mutual_info_classif, k=k)\n",
    "    X_new = selector.fit_transform(X, y)\n",
    "    X_train, X_test, y_train, y_test = train_test_split(X_new, y, test_size=0.3, random_state=0)\n",
    "    x_val, x_test, y_val, y_test = train_test_split(X_test, y_test, test_size=0.5, random_state=0)\n",
    "    knn = KNeighborsClassifier()\n",
    "    clf = GridSearchCV(knn, parameters)\n",
    "    clf.fit(X_train, y_train)\n",
    "    val_score = clf.score(x_val, y_val)\n",
    "    score = clf.score(x_test, y_test)\n",
    "    names = get_feature_names(selector, feature_names)\n",
    "    sensitivity, specificity = performance_measures(x_test, y_test)\n",
    "    scores = selector.scores_[selector.get_support()]\n",
    "    if(score > max_score):\n",
    "        max_score = score\n",
    "        best_k = k\n",
    "        best_params = clf.best_params_\n",
    "        best_val_score = val_score\n",
    "        selected_scores = scores\n",
    "        selected_names = names\n",
    "        best_sensitivity = sensitivity\n",
    "        best_specificity = specificity\n",
    "    print(\"passed \", k, \" steps\")\n",
    "\n",
    "print(\"Test Score is \", max_score)\n",
    "print(\"Best params are \", best_params)\n",
    "print(\"Best k is \", best_k)\n",
    "print(\"Val score is \", best_val_score)\n",
    "print(\"Sensitivity \", sensitivity)\n",
    "print(\"Specificity \", specificity)\n",
    "print(\"names are \", selected_names)\n",
    "print(\"Scores are \", selected_scores)"
   ]
  },
  {
   "cell_type": "code",
   "execution_count": 13,
   "metadata": {},
   "outputs": [
    {
     "data": {
      "image/png": "[encoded data removed]",
      "text/plain": [
       "<Figure size 432x288 with 1 Axes>"
      ]
     },
     "metadata": {
      "needs_background": "light"
     },
     "output_type": "display_data"
    }
   ],
   "source": [
    "import matplotlib.pyplot as plt  \n",
    "from sklearn import datasets, metrics, model_selection, svm\n",
    "\n",
    "X, y, feature_names = dataset()\n",
    "X = feature_scaling_min_max(X)\n",
    "selector = SelectKBest(chi2, k=9)\n",
    "X_new = selector.fit_transform(X, y)\n",
    "X_train, X_test, y_train, y_test = train_test_split(X_new, y, test_size=0.3, random_state=0)\n",
    "x_val, x_test, y_val, y_test = train_test_split(X_test, y_test, test_size=0.5, random_state=0)\n",
    "knn = KNeighborsClassifier()\n",
    "clf = GridSearchCV(knn, parameters)\n",
    "clf.fit(X_train, y_train)\n",
    "metrics.plot_roc_curve(clf, x_test, y_test) \n",
    "plt.title(\"ROC Curve for KNN Classifier with Chi Squared based Feature Selection\")\n",
    "plt.show()  "
   ]
  },
  {
   "cell_type": "code",
   "execution_count": 11,
   "metadata": {},
   "outputs": [
    {
     "data": {
      "image/png": "[encoded data removed]",
      "text/plain": [
       "<Figure size 432x288 with 1 Axes>"
      ]
     },
     "metadata": {
      "needs_background": "light"
     },
     "output_type": "display_data"
    }
   ],
   "source": [
    "import matplotlib.pyplot as plt  \n",
    "from sklearn import datasets, metrics, model_selection, svm\n",
    "\n",
    "X, y, feature_names = dataset()\n",
    "X = feature_scaling_min_max(X)\n",
    "selector = SelectKBest(f_classif, k=8)\n",
    "X_new = selector.fit_transform(X, y)\n",
    "X_train, X_test, y_train, y_test = train_test_split(X_new, y, test_size=0.3, random_state=0)\n",
    "x_val, x_test, y_val, y_test = train_test_split(X_test, y_test, test_size=0.5, random_state=0)\n",
    "knn = KNeighborsClassifier()\n",
    "clf = GridSearchCV(knn, parameters)\n",
    "clf.fit(X_train, y_train)\n",
    "metrics.plot_roc_curve(clf, x_test, y_test) \n",
    "plt.title(\"ROC Curve for KNN Classifier with ANOVA based Feature Selection\")\n",
    "plt.show()  "
   ]
  },
  {
   "cell_type": "code",
   "execution_count": 12,
   "metadata": {},
   "outputs": [
    {
     "data": {
      "image/png": "[encoded data removed]",
      "text/plain": [
       "<Figure size 432x288 with 1 Axes>"
      ]
     },
     "metadata": {
      "needs_background": "light"
     },
     "output_type": "display_data"
    }
   ],
   "source": [
    "import matplotlib.pyplot as plt  \n",
    "from sklearn import datasets, metrics, model_selection, svm\n",
    "\n",
    "X, y, feature_names = dataset()\n",
    "X = feature_scaling_min_max(X)\n",
    "selector = SelectKBest(mutual_info_classif, k=5)\n",
    "X_new = selector.fit_transform(X, y)\n",
    "X_train, X_test, y_train, y_test = train_test_split(X_new, y, test_size=0.3, random_state=0)\n",
    "x_val, x_test, y_val, y_test = train_test_split(X_test, y_test, test_size=0.5, random_state=0)\n",
    "knn = KNeighborsClassifier()\n",
    "clf = GridSearchCV(knn, parameters)\n",
    "clf.fit(X_train, y_train)\n",
    "metrics.plot_roc_curve(clf, x_test, y_test) \n",
    "plt.title(\"ROC Curve for KNN Classifier with MI based Feature Selection\")\n",
    "plt.show()  "
   ]
  }
 ],
 "metadata": {
  "kernelspec": {
   "display_name": "Python 3",
   "language": "python",
   "name": "python3"
  },
  "language_info": {
   "codemirror_mode": {
    "name": "ipython",
    "version": 3
   },
   "file_extension": ".py",
   "mimetype": "text/x-python",
   "name": "python",
   "nbconvert_exporter": "python",
   "pygments_lexer": "ipython3",
   "version": "3.6.6"
  }
 },
 "nbformat": 4,
 "nbformat_minor": 4
}
